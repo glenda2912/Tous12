{
  "nbformat": 4,
  "nbformat_minor": 0,
  "metadata": {
    "colab": {
      "provenance": [],
      "authorship_tag": "ABX9TyMSnwn2KQYQCYN9viqZphYb",
      "include_colab_link": true
    },
    "kernelspec": {
      "name": "python3",
      "display_name": "Python 3"
    },
    "language_info": {
      "name": "python"
    }
  },
  "cells": [
    {
      "cell_type": "markdown",
      "metadata": {
        "id": "view-in-github",
        "colab_type": "text"
      },
      "source": [
        "<a href=\"https://colab.research.google.com/github/glenda2912/Tous12/blob/main/03_Data_Strcutures.ipynb\" target=\"_parent\"><img src=\"https://colab.research.google.com/assets/colab-badge.svg\" alt=\"Open In Colab\"/></a>"
      ]
    },
    {
      "cell_type": "markdown",
      "source": [
        "### **1. What is a DS?**\n",
        "\n",
        "A DS is an object that let us store more than one value. \n",
        "\n",
        "Formally, a DS is **sequence** of values which can be located with an index. \n",
        "\n"
      ],
      "metadata": {
        "id": "9HyqW30Gvv-9"
      }
    },
    {
      "cell_type": "markdown",
      "source": [
        "# **2. Linear Algebra**"
      ],
      "metadata": {
        "id": "2CRGFKRLvvPX"
      }
    },
    {
      "cell_type": "markdown",
      "source": [
        "## 2.1 What is Numpy? \n",
        "\n",
        "Numpy (Numerical Python) is a collection on fuctions and methods. \n",
        "\n"
      ],
      "metadata": {
        "id": "cm0Cs8C1xAeF"
      }
    },
    {
      "cell_type": "code",
      "source": [
        "# Install the library \n",
        "\n",
        "import numpy as np"
      ],
      "metadata": {
        "id": "XXJF7b0nx1rR"
      },
      "execution_count": 4,
      "outputs": []
    },
    {
      "cell_type": "markdown",
      "source": [
        "## 2.2 Numpy arrays - vectors and matrices "
      ],
      "metadata": {
        "id": "-X1tbQUvyeYX"
      }
    },
    {
      "cell_type": "markdown",
      "source": [
        "*Example 1 - Colum vector*\n",
        "\n"
      ],
      "metadata": {
        "id": "1HIPpxgzzAuA"
      }
    },
    {
      "cell_type": "code",
      "source": [
        "a = np.array([[1],[2],[3]])\n",
        "print(a)"
      ],
      "metadata": {
        "colab": {
          "base_uri": "https://localhost:8080/"
        },
        "id": "aE0j6ZtUzwBu",
        "outputId": "91018e34-2445-496c-ad90-e81931b5b619"
      },
      "execution_count": 5,
      "outputs": [
        {
          "output_type": "stream",
          "name": "stdout",
          "text": [
            "[[1]\n",
            " [2]\n",
            " [3]]\n"
          ]
        }
      ]
    },
    {
      "cell_type": "code",
      "source": [],
      "metadata": {
        "id": "raFxLXBwylHd"
      },
      "execution_count": null,
      "outputs": []
    }
  ]
}