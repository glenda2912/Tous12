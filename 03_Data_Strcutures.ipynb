{
  "nbformat": 4,
  "nbformat_minor": 0,
  "metadata": {
    "colab": {
      "provenance": [],
      "authorship_tag": "ABX9TyPNXG4SA8OHxfoMuw8mz7pt",
      "include_colab_link": true
    },
    "kernelspec": {
      "name": "python3",
      "display_name": "Python 3"
    },
    "language_info": {
      "name": "python"
    }
  },
  "cells": [
    {
      "cell_type": "markdown",
      "metadata": {
        "id": "view-in-github",
        "colab_type": "text"
      },
      "source": [
        "<a href=\"https://colab.research.google.com/github/glenda2912/Tous12/blob/main/03_Data_Strcutures.ipynb\" target=\"_parent\"><img src=\"https://colab.research.google.com/assets/colab-badge.svg\" alt=\"Open In Colab\"/></a>"
      ]
    },
    {
      "cell_type": "markdown",
      "source": [
        "### **1. What is a DS?**\n",
        "\n",
        "A DS is an object that let us store more than one value. \n",
        "\n",
        "Formally, a DS is **sequence** of values which can be located with an index. \n",
        "\n"
      ],
      "metadata": {
        "id": "9HyqW30Gvv-9"
      }
    },
    {
      "cell_type": "markdown",
      "source": [
        "# **2. Lineal Algebra**"
      ],
      "metadata": {
        "id": "2CRGFKRLvvPX"
      }
    },
    {
      "cell_type": "markdown",
      "source": [
        "## 2.1 What is Numpy? \n",
        "\n",
        "Numpy (Numerical Python) is a collection on fuctions and methods. \n",
        "\n"
      ],
      "metadata": {
        "id": "cm0Cs8C1xAeF"
      }
    },
    {
      "cell_type": "code",
      "source": [
        "# Install the library \n",
        "\n",
        "import numpy as np"
      ],
      "metadata": {
        "id": "XXJF7b0nx1rR"
      },
      "execution_count": 2,
      "outputs": []
    },
    {
      "cell_type": "markdown",
      "source": [
        "## 2.2 Numpy arrays - vectors and matrices "
      ],
      "metadata": {
        "id": "-X1tbQUvyeYX"
      }
    },
    {
      "cell_type": "markdown",
      "source": [
        "*Example 1 - Colum vector*\n",
        "\n"
      ],
      "metadata": {
        "id": "1HIPpxgzzAuA"
      }
    },
    {
      "cell_type": "code",
      "source": [
        "a = np.array([[1],[2],[3]])\n",
        "print(a)\n",
        "print(a.shape)"
      ],
      "metadata": {
        "colab": {
          "base_uri": "https://localhost:8080/"
        },
        "id": "aE0j6ZtUzwBu",
        "outputId": "d1d024d9-c32f-476c-f01d-2567d8b70db3"
      },
      "execution_count": null,
      "outputs": [
        {
          "output_type": "stream",
          "name": "stdout",
          "text": [
            "[[1]\n",
            " [2]\n",
            " [3]]\n",
            "(3, 1)\n"
          ]
        }
      ]
    },
    {
      "cell_type": "markdown",
      "source": [
        "*Example 2 - Row vector*"
      ],
      "metadata": {
        "id": "F_jCMj7BnSJB"
      }
    },
    {
      "cell_type": "code",
      "source": [
        "b = np.array([[4,5,6]])\n",
        "print(b)\n",
        "print(b.shape)"
      ],
      "metadata": {
        "id": "raFxLXBwylHd",
        "colab": {
          "base_uri": "https://localhost:8080/"
        },
        "outputId": "97c0b63e-5e02-49d7-e6e9-6c37fd08a584"
      },
      "execution_count": null,
      "outputs": [
        {
          "output_type": "stream",
          "name": "stdout",
          "text": [
            "[[4 5 6]]\n",
            "(1, 3)\n"
          ]
        }
      ]
    },
    {
      "cell_type": "markdown",
      "source": [
        "*Example 3 - Matrix*"
      ],
      "metadata": {
        "id": "H0jHHVlen5W9"
      }
    },
    {
      "cell_type": "code",
      "source": [
        "M = np.array([[1,2,3],[4,5,6], [7,8,9]])\n",
        "print(M)\n",
        "print(M.shape)"
      ],
      "metadata": {
        "colab": {
          "base_uri": "https://localhost:8080/"
        },
        "id": "bj4aahbPoA36",
        "outputId": "9d904a86-7a05-4727-8956-677ba4b45d8f"
      },
      "execution_count": null,
      "outputs": [
        {
          "output_type": "stream",
          "name": "stdout",
          "text": [
            "[[1 2 3]\n",
            " [4 5 6]\n",
            " [7 8 9]]\n",
            "(3, 3)\n"
          ]
        }
      ]
    },
    {
      "cell_type": "code",
      "source": [
        "# nice trick\n",
        "\n",
        "nr, nc = M.shape"
      ],
      "metadata": {
        "id": "YOA-7AFUorpt"
      },
      "execution_count": null,
      "outputs": []
    },
    {
      "cell_type": "markdown",
      "source": [
        "# 2.3 Sciling \n",
        "\n",
        "To access a one or several elements of the object. "
      ],
      "metadata": {
        "id": "Mm-fO1HNpPWf"
      }
    },
    {
      "cell_type": "code",
      "source": [
        "# Extract the first element \n",
        "\n",
        "## Column vector \n",
        "print(a[0,0])\n",
        "\n",
        "## Row vector \n",
        "print(b[0,0])\n",
        "\n",
        "## Matriz \n",
        "print(M[0,0])\n"
      ],
      "metadata": {
        "colab": {
          "base_uri": "https://localhost:8080/"
        },
        "id": "nTnzEZympkVT",
        "outputId": "f24c614a-af73-40a0-9fc1-85178e5b2faa"
      },
      "execution_count": null,
      "outputs": [
        {
          "output_type": "stream",
          "name": "stdout",
          "text": [
            "1\n",
            "4\n",
            "1\n"
          ]
        }
      ]
    },
    {
      "cell_type": "code",
      "source": [
        "# Extract the last element\n",
        "\n",
        "## Column vector \n",
        "print(a[-1,0])\n",
        "\n",
        "## Row vector \n",
        "print(b[0,-1])\n",
        "\n",
        "## Matrix \n",
        "print(M[-1,-1])\n"
      ],
      "metadata": {
        "colab": {
          "base_uri": "https://localhost:8080/"
        },
        "id": "VmzUHtvdrGYt",
        "outputId": "d4400c3e-dcc4-49e3-8edb-4911f691e724"
      },
      "execution_count": null,
      "outputs": [
        {
          "output_type": "stream",
          "name": "stdout",
          "text": [
            "3\n",
            "6\n",
            "9\n"
          ]
        }
      ]
    },
    {
      "cell_type": "code",
      "source": [
        "# Extract a subset\n",
        "\n",
        "## Column vector \n",
        "print(a[0:2])\n",
        "\n",
        "## Row vector \n",
        "print(b[0,0:2])\n",
        "\n",
        "## Matrix\n",
        "print(M[0:2,0:2])"
      ],
      "metadata": {
        "colab": {
          "base_uri": "https://localhost:8080/"
        },
        "id": "owRd49g1roLy",
        "outputId": "d964a5f2-c94c-4788-dde7-cdf0ba176ac2"
      },
      "execution_count": null,
      "outputs": [
        {
          "output_type": "stream",
          "name": "stdout",
          "text": [
            "[[1]\n",
            " [2]]\n",
            "[4 5]\n",
            "[[1 2]\n",
            " [4 5]]\n"
          ]
        }
      ]
    },
    {
      "cell_type": "markdown",
      "source": [
        "# 2.4 Methods "
      ],
      "metadata": {
        "id": "DgVJICcjs20h"
      }
    },
    {
      "cell_type": "code",
      "source": [
        " # ZEROS \n",
        "\n",
        "z1 = np.zeros(4)\n",
        "print(z1) \n",
        "\n",
        "z2 = np.zeros((3,2))\n",
        "print(z2)"
      ],
      "metadata": {
        "colab": {
          "base_uri": "https://localhost:8080/"
        },
        "id": "eK8v2LJ2s-qz",
        "outputId": "8346233f-4878-41ab-94fb-244f5a3ac16c"
      },
      "execution_count": null,
      "outputs": [
        {
          "output_type": "stream",
          "name": "stdout",
          "text": [
            "[0. 0. 0. 0.]\n",
            "[[0. 0.]\n",
            " [0. 0.]\n",
            " [0. 0.]]\n"
          ]
        }
      ]
    },
    {
      "cell_type": "code",
      "source": [
        "# ONES \n",
        "\n",
        "o1 = np.ones(4)\n",
        "print(o1) \n",
        "\n",
        "o2 = np.ones((3,2))\n",
        "print(o2)\n",
        "\n",
        "o2*5\n"
      ],
      "metadata": {
        "colab": {
          "base_uri": "https://localhost:8080/"
        },
        "id": "mXKg598-uNbP",
        "outputId": "c526c2a8-bdf6-4106-8cda-8b54388ccbf7"
      },
      "execution_count": null,
      "outputs": [
        {
          "output_type": "stream",
          "name": "stdout",
          "text": [
            "[1. 1. 1. 1.]\n",
            "[[1. 1.]\n",
            " [1. 1.]\n",
            " [1. 1.]]\n"
          ]
        },
        {
          "output_type": "execute_result",
          "data": {
            "text/plain": [
              "array([[5., 5.],\n",
              "       [5., 5.],\n",
              "       [5., 5.]])"
            ]
          },
          "metadata": {},
          "execution_count": 26
        }
      ]
    },
    {
      "cell_type": "markdown",
      "source": [
        "**ANOTHER CREATION OPTIONS**"
      ],
      "metadata": {
        "id": "HoblWfbEvSIC"
      }
    },
    {
      "cell_type": "code",
      "source": [
        "# Full \n",
        "\n",
        "f = np.full((3,2),5)\n",
        "print(f)"
      ],
      "metadata": {
        "colab": {
          "base_uri": "https://localhost:8080/"
        },
        "id": "tJKi6-P4vYLh",
        "outputId": "0b691186-937c-4c16-8581-b75de1ce9f65"
      },
      "execution_count": null,
      "outputs": [
        {
          "output_type": "stream",
          "name": "stdout",
          "text": [
            "[[5 5]\n",
            " [5 5]\n",
            " [5 5]]\n"
          ]
        }
      ]
    },
    {
      "cell_type": "code",
      "source": [
        "# Lineal sequence \n",
        "\n",
        "np.arange(6)\n",
        "np.arange(23,33)\n",
        "np.arange(23,33,0.5)\n"
      ],
      "metadata": {
        "colab": {
          "base_uri": "https://localhost:8080/"
        },
        "id": "L3Cx1TTVv_Sa",
        "outputId": "2626e069-e61a-47dd-db25-566fc75a6980"
      },
      "execution_count": null,
      "outputs": [
        {
          "output_type": "execute_result",
          "data": {
            "text/plain": [
              "array([23. , 23.5, 24. , 24.5, 25. , 25.5, 26. , 26.5, 27. , 27.5, 28. ,\n",
              "       28.5, 29. , 29.5, 30. , 30.5, 31. , 31.5, 32. , 32.5])"
            ]
          },
          "metadata": {},
          "execution_count": 33
        }
      ]
    },
    {
      "cell_type": "code",
      "source": [
        "# Lineal space \n",
        "\n",
        "np.linspace(15,90,6)"
      ],
      "metadata": {
        "colab": {
          "base_uri": "https://localhost:8080/"
        },
        "id": "GSpY6nKVxU2R",
        "outputId": "e2ba9093-678b-491a-aa9a-e7f3c966d00a"
      },
      "execution_count": null,
      "outputs": [
        {
          "output_type": "execute_result",
          "data": {
            "text/plain": [
              "array([15., 30., 45., 60., 75., 90.])"
            ]
          },
          "metadata": {},
          "execution_count": 34
        }
      ]
    },
    {
      "cell_type": "markdown",
      "source": [
        "## 2.5 Random Numbers \n"
      ],
      "metadata": {
        "id": "CGdJ9e_Ux9VM"
      }
    },
    {
      "cell_type": "code",
      "source": [
        "# A single Value - Between 0 and 1\n",
        "np.random.seed(1234)\n",
        "np.random.rand()"
      ],
      "metadata": {
        "colab": {
          "base_uri": "https://localhost:8080/"
        },
        "id": "GRlmpxJcyGPh",
        "outputId": "dc21c770-6848-47df-e03d-9059f72714ba"
      },
      "execution_count": null,
      "outputs": [
        {
          "output_type": "execute_result",
          "data": {
            "text/plain": [
              "0.1915194503788923"
            ]
          },
          "metadata": {},
          "execution_count": 43
        }
      ]
    },
    {
      "cell_type": "code",
      "source": [
        "# Example - toss a coin \n",
        "\n",
        "if np.random.rand() < 0.5:\n",
        "  print('head')\n",
        "else: \n",
        "  print('tails')"
      ],
      "metadata": {
        "colab": {
          "base_uri": "https://localhost:8080/"
        },
        "id": "k-oWGLu_z0Lu",
        "outputId": "de2e625e-a514-4af2-c602-c90cfa3bb466"
      },
      "execution_count": null,
      "outputs": [
        {
          "output_type": "stream",
          "name": "stdout",
          "text": [
            "head\n"
          ]
        }
      ]
    },
    {
      "cell_type": "code",
      "source": [
        "# Two heads in a row \n",
        "\n",
        "if np.random.rand() < 0.25:\n",
        "  print('You win!')\n",
        "else: \n",
        "  print('You lose!')"
      ],
      "metadata": {
        "colab": {
          "base_uri": "https://localhost:8080/"
        },
        "id": "nQLF8mR14bs-",
        "outputId": "dec35bca-51ba-40ad-e243-d99b61409db7"
      },
      "execution_count": null,
      "outputs": [
        {
          "output_type": "stream",
          "name": "stdout",
          "text": [
            "You lose!\n"
          ]
        }
      ]
    },
    {
      "cell_type": "code",
      "source": [
        "# Two heads in a row \n",
        "\n",
        "ft = np.random.rand()\n",
        "if ft < 0.5:\n",
        "  print('The first toss was Head')\n",
        "else: \n",
        "  print('The first toss was Tails')\n",
        "\n",
        "st = np.random.rand()\n",
        "if st < 0.5:\n",
        "  print('The second toss was Head')\n",
        "else: \n",
        "  print('The second toss was Tails')\n",
        "\n",
        "if ft < 0.5 and st < 0.5: \n",
        "  print('You win!')\n",
        "else: \n",
        "  print('You lose!')"
      ],
      "metadata": {
        "colab": {
          "base_uri": "https://localhost:8080/"
        },
        "id": "5Zx1bb8G47zF",
        "outputId": "af9f9beb-dc27-47b8-9f0a-ad42ac2cc3c6"
      },
      "execution_count": null,
      "outputs": [
        {
          "output_type": "stream",
          "name": "stdout",
          "text": [
            "The first toss was Tails\n",
            "The second toss was Tails\n",
            "You lose!\n"
          ]
        }
      ]
    },
    {
      "cell_type": "code",
      "source": [
        "# One dimensional array\n",
        "np.random.rand(5)"
      ],
      "metadata": {
        "colab": {
          "base_uri": "https://localhost:8080/"
        },
        "id": "x3KzoSQSjG2z",
        "outputId": "919f94e9-e29c-453e-ec32-6b3b81e19a9d"
      },
      "execution_count": 3,
      "outputs": [
        {
          "output_type": "execute_result",
          "data": {
            "text/plain": [
              "array([0.47113616, 0.6694449 , 0.945486  , 0.48863366, 0.96666731])"
            ]
          },
          "metadata": {},
          "execution_count": 3
        }
      ]
    },
    {
      "cell_type": "code",
      "source": [
        "# Matrix\n",
        "np.random.rand(6,2)"
      ],
      "metadata": {
        "colab": {
          "base_uri": "https://localhost:8080/"
        },
        "id": "Mg_w_BxpjLEE",
        "outputId": "6615dfd0-5412-4857-baaf-3614ce1747c0"
      },
      "execution_count": 4,
      "outputs": [
        {
          "output_type": "execute_result",
          "data": {
            "text/plain": [
              "array([[0.41068883, 0.84145084],\n",
              "       [0.74168412, 0.18997868],\n",
              "       [0.03508449, 0.06560198],\n",
              "       [0.67197605, 0.64979439],\n",
              "       [0.61879447, 0.93776   ],\n",
              "       [0.93086356, 0.04515885]])"
            ]
          },
          "metadata": {},
          "execution_count": 4
        }
      ]
    },
    {
      "cell_type": "markdown",
      "source": [
        "### Uniform distribution [a,b)"
      ],
      "metadata": {
        "id": "3kzzy6XFjSCt"
      }
    },
    {
      "cell_type": "code",
      "source": [
        "# Single value\n",
        "np.random.uniform(low = -10, high = 0)"
      ],
      "metadata": {
        "colab": {
          "base_uri": "https://localhost:8080/"
        },
        "id": "kcEWAMkEjTNM",
        "outputId": "cd058553-bbf0-41c4-c2e7-16b1fcab225e"
      },
      "execution_count": 5,
      "outputs": [
        {
          "output_type": "execute_result",
          "data": {
            "text/plain": [
              "-1.3033800057549598"
            ]
          },
          "metadata": {},
          "execution_count": 5
        }
      ]
    },
    {
      "cell_type": "code",
      "source": [
        "# One dimensional array\n",
        "np.random.uniform(low = -10, high = 0, size = 7)"
      ],
      "metadata": {
        "colab": {
          "base_uri": "https://localhost:8080/"
        },
        "id": "B2Qm2tBPjWuM",
        "outputId": "9e569379-a200-4647-95ef-8548bf6cae68"
      },
      "execution_count": 6,
      "outputs": [
        {
          "output_type": "execute_result",
          "data": {
            "text/plain": [
              "array([-4.20290744, -9.81156526, -5.87456922, -5.28803295, -1.08236366,\n",
              "       -5.05396807, -0.07334625])"
            ]
          },
          "metadata": {},
          "execution_count": 6
        }
      ]
    },
    {
      "cell_type": "code",
      "source": [
        "# Matrix\n",
        "np.random.uniform(low = -10, high = 0, size = (5,1))"
      ],
      "metadata": {
        "colab": {
          "base_uri": "https://localhost:8080/"
        },
        "id": "zSzmdcBljZJt",
        "outputId": "d0e13ca7-c0a9-435c-ecc1-6891b9a4b719"
      },
      "execution_count": 7,
      "outputs": [
        {
          "output_type": "execute_result",
          "data": {
            "text/plain": [
              "array([[-3.09528014],\n",
              "       [-6.07428444],\n",
              "       [-4.28079216],\n",
              "       [-9.00922255],\n",
              "       [-1.77211396]])"
            ]
          },
          "metadata": {},
          "execution_count": 7
        }
      ]
    },
    {
      "cell_type": "markdown",
      "source": [
        "** Exercise**\n",
        "\n",
        "Simulate the sale of a shop according to\n",
        "\n",
        "| Scenario | Prob | Sales |\n",
        "|----------|------|-------|\n",
        "| Bad      | 25%  | 60    |\n",
        "| Normal   | 50%  | 80    |\n",
        "| Wow      | 25%  | 100   |\n",
        "\n",
        "For 5 days."
      ],
      "metadata": {
        "id": "msvVRx20jbzv"
      }
    },
    {
      "cell_type": "code",
      "source": [
        "# A Solution\n",
        "\n",
        "for i in range(1,6):\n",
        "  tmp = np.random.rand()\n",
        "  if tmp <0.25:\n",
        "    print('Day:',i,'Scenario: Bad','Units sold: 60')\n",
        "  elif tmp>0.75:\n",
        "    print('Day:',i,'Scenario: Wow','Units sold: 100')\n",
        "  else:\n",
        "    print('Day:',i,'Scenario: Normal','Units sold: 80')"
      ],
      "metadata": {
        "colab": {
          "base_uri": "https://localhost:8080/"
        },
        "id": "Ne_tFiQWjeO9",
        "outputId": "3af14654-cf13-4363-9f8f-ad26d4cfc482"
      },
      "execution_count": 8,
      "outputs": [
        {
          "output_type": "stream",
          "name": "stdout",
          "text": [
            "Day: 1 Scenario: Normal Units sold: 80\n",
            "Day: 2 Scenario: Bad Units sold: 60\n",
            "Day: 3 Scenario: Normal Units sold: 80\n",
            "Day: 4 Scenario: Normal Units sold: 80\n",
            "Day: 5 Scenario: Normal Units sold: 80\n"
          ]
        }
      ]
    }
  ]
}