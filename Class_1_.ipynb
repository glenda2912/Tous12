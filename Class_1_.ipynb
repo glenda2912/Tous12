{
  "nbformat": 4,
  "nbformat_minor": 0,
  "metadata": {
    "colab": {
      "provenance": [],
      "toc_visible": true,
      "authorship_tag": "ABX9TyOIR3wC+u2jlNST3bPe0ZBe",
      "include_colab_link": true
    },
    "kernelspec": {
      "name": "python3",
      "display_name": "Python 3"
    },
    "language_info": {
      "name": "python"
    }
  },
  "cells": [
    {
      "cell_type": "markdown",
      "metadata": {
        "id": "view-in-github",
        "colab_type": "text"
      },
      "source": [
        "<a href=\"https://colab.research.google.com/github/glenda2912/Tous12/blob/main/Class_1_.ipynb\" target=\"_parent\"><img src=\"https://colab.research.google.com/assets/colab-badge.svg\" alt=\"Open In Colab\"/></a>"
      ]
    },
    {
      "cell_type": "markdown",
      "source": [
        "Ghjhjhhjhhjhhjhjh\n",
        "\n",
        "# Title \n",
        "## Subtitle \n",
        "### Subsubtitle "
      ],
      "metadata": {
        "id": "rbshLM8lceMj"
      }
    },
    {
      "cell_type": "markdown",
      "source": [
        "## Section 1"
      ],
      "metadata": {
        "id": "6y_vS61eeQ6b"
      }
    },
    {
      "cell_type": "code",
      "execution_count": null,
      "metadata": {
        "id": "Ju6xbHVol0Pv"
      },
      "outputs": [],
      "source": []
    },
    {
      "cell_type": "markdown",
      "source": [
        "## Subsection 1"
      ],
      "metadata": {
        "id": "tneU0-oZeqGB"
      }
    },
    {
      "cell_type": "markdown",
      "source": [
        "# Text formating \n"
      ],
      "metadata": {
        "id": "aFIUkGtUe4zR"
      }
    },
    {
      "cell_type": "markdown",
      "source": [
        "## Bold \n",
        "Using ´**´ :\n",
        "\n",
        "**Glenda** = **glenda** \n"
      ],
      "metadata": {
        "id": "Q_fQlC1ofFm_"
      }
    },
    {
      "cell_type": "markdown",
      "source": [
        "## Italic \n",
        "\n",
        "Use `*`\n",
        "\n",
        "`*Glenda*` = *glenda* "
      ],
      "metadata": {
        "id": "lDJIUFgjgJYZ"
      }
    },
    {
      "cell_type": "markdown",
      "source": [
        "Write you your name with the first two with bold, the fist last name in Italics and the second name in bold+italics \n",
        "\n",
        "\n",
        "**Glenda Mitchell** *Aguirre* ***Medina***"
      ],
      "metadata": {
        "id": "_m9E8qk_hUM4"
      }
    },
    {
      "cell_type": "markdown",
      "source": [
        " # Unordered List \n",
        "\n",
        "**List of sports:**\n",
        "* Football\n",
        "* Basketball \n",
        "* Volleyball \n"
      ],
      "metadata": {
        "id": "ZDC0hFgojOAl"
      }
    },
    {
      "cell_type": "markdown",
      "source": [
        "## Ordered list \n",
        "\n",
        "**The Best singers:**\n",
        "1. Justin Bieber \n",
        "2. Maluma \n",
        "3. Adele \n"
      ],
      "metadata": {
        "id": "-fDiNZF0juBB"
      }
    },
    {
      "cell_type": "markdown",
      "source": [
        "## Nested lists \n",
        "\n",
        "**To-Do list for tomorrow :**\n",
        "\n",
        "\n",
        "1.  *Early morning:*\n",
        "\n",
        "  1.1. Wake-up early \n",
        "\n",
        "  1.2. Makeup \n",
        "\n",
        "  1.3 Go to study \n",
        "\n",
        "\n",
        "2. *Morning:*\n",
        "\n",
        "  2.1. Class 10:00 pm to 1:00 pm \n",
        "\n",
        "  2.2. Lunch \n",
        "\n",
        "\n",
        "3. *Afternoon:*\n",
        "\n",
        "  3.1. Work in the office \n",
        "\n",
        "  3.2 Organize some folders "
      ],
      "metadata": {
        "id": "Ixahb4tnkWHM"
      }
    }
  ]
}