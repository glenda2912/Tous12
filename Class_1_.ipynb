{
  "nbformat": 4,
  "nbformat_minor": 0,
  "metadata": {
    "colab": {
      "provenance": [],
      "toc_visible": true,
      "authorship_tag": "ABX9TyPZAdo3DXIt3TXHkPc5bNy+",
      "include_colab_link": true
    },
    "kernelspec": {
      "name": "python3",
      "display_name": "Python 3"
    },
    "language_info": {
      "name": "python"
    }
  },
  "cells": [
    {
      "cell_type": "markdown",
      "metadata": {
        "id": "view-in-github",
        "colab_type": "text"
      },
      "source": [
        "<a href=\"https://colab.research.google.com/github/glenda2912/Tous12/blob/main/Class_1_.ipynb\" target=\"_parent\"><img src=\"https://colab.research.google.com/assets/colab-badge.svg\" alt=\"Open In Colab\"/></a>"
      ]
    },
    {
      "cell_type": "markdown",
      "source": [
        "Ghjhjhhjhhjhhjhjh\n",
        "\n",
        "# Title \n",
        "## Subtitle \n",
        "### Subsubtitle "
      ],
      "metadata": {
        "id": "rbshLM8lceMj"
      }
    },
    {
      "cell_type": "markdown",
      "source": [
        "## Section 1"
      ],
      "metadata": {
        "id": "6y_vS61eeQ6b"
      }
    },
    {
      "cell_type": "code",
      "execution_count": null,
      "metadata": {
        "id": "Ju6xbHVol0Pv"
      },
      "outputs": [],
      "source": []
    },
    {
      "cell_type": "markdown",
      "source": [
        "## Subsection 1"
      ],
      "metadata": {
        "id": "tneU0-oZeqGB"
      }
    },
    {
      "cell_type": "markdown",
      "source": [
        "# Text formating \n"
      ],
      "metadata": {
        "id": "aFIUkGtUe4zR"
      }
    },
    {
      "cell_type": "markdown",
      "source": [
        "## Bold \n",
        "Using ´**´ :\n",
        "\n",
        "**Glenda** = **glenda** \n"
      ],
      "metadata": {
        "id": "Q_fQlC1ofFm_"
      }
    },
    {
      "cell_type": "markdown",
      "source": [
        "## Italic \n",
        "\n",
        "Use `*`\n",
        "\n",
        "`*Glenda*` = *glenda* "
      ],
      "metadata": {
        "id": "lDJIUFgjgJYZ"
      }
    },
    {
      "cell_type": "markdown",
      "source": [
        "Write you your name with the first two with bold, the fist last name in Italics and the second name in bold+italics \n",
        "\n",
        "##Bold \n",
        "\n",
        "**Glenda Mitchell** *Aguirre* ***Medina***"
      ],
      "metadata": {
        "id": "_m9E8qk_hUM4"
      }
    }
  ]
}