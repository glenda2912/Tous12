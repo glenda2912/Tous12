{
  "nbformat": 4,
  "nbformat_minor": 0,
  "metadata": {
    "colab": {
      "provenance": [],
      "toc_visible": true,
      "authorship_tag": "ABX9TyO98/hKRh5lPWehRnX9dJ+o",
      "include_colab_link": true
    },
    "kernelspec": {
      "name": "python3",
      "display_name": "Python 3"
    },
    "language_info": {
      "name": "python"
    }
  },
  "cells": [
    {
      "cell_type": "markdown",
      "metadata": {
        "id": "view-in-github",
        "colab_type": "text"
      },
      "source": [
        "<a href=\"https://colab.research.google.com/github/glenda2912/Tous12/blob/main/01_%2C_Python_Basics.ipynb\" target=\"_parent\"><img src=\"https://colab.research.google.com/assets/colab-badge.svg\" alt=\"Open In Colab\"/></a>"
      ]
    },
    {
      "cell_type": "markdown",
      "source": [
        "# Introduction \n",
        "\n",
        "Here, in this file, we are going to *code* \n",
        "\n",
        "we are going to understand Python, how its works, and some tricks. \n"
      ],
      "metadata": {
        "id": "zpDuRcBikGrr"
      }
    },
    {
      "cell_type": "markdown",
      "source": [
        "# 1. What is Python?\n",
        "\n",
        "It was created in 1991 and its a **general-purpuse progaming langiage**\n",
        "\n",
        "This means that Pyhton is used for: \n",
        "\n",
        "* Data analysis\n",
        "* Automating task\n",
        "* Machine learning \n",
        "* Data Visualization \n",
        "* Optimization \n",
        "* Web development \n",
        "* User Interfaces creation \n",
        "* Create another software\n",
        "* Create video games \n",
        "\n",
        "The word runs of Python, C++, Java and HTLM /CSS, and R? \n",
        "\n"
      ],
      "metadata": {
        "id": "PkXiSuhykavd"
      }
    },
    {
      "cell_type": "markdown",
      "source": [
        "# 2. Why Python?\n",
        "\n",
        "The main reasons: \n",
        "\n",
        " * It is simple. \n",
        " * Focus. \n",
        " * Easy to learn \n",
        " * Open-source: It is free.\n",
        " * Cross-plaform.\n",
        " * Extensive libraries. \n"
      ],
      "metadata": {
        "id": "vSaJmnzKlsRj"
      }
    },
    {
      "cell_type": "markdown",
      "source": [
        "# 3. Getting Started\n"
      ],
      "metadata": {
        "id": "BnCxdY5cmxr_"
      }
    },
    {
      "cell_type": "markdown",
      "source": [
        "## 3.1. Python as a Calculator \n"
      ],
      "metadata": {
        "id": "7dYi_wrCm3v1"
      }
    },
    {
      "cell_type": "code",
      "execution_count": null,
      "metadata": {
        "colab": {
          "base_uri": "https://localhost:8080/"
        },
        "id": "4fn5jfiujuRp",
        "outputId": "1c3ecf91-028e-4f00-c725-2149ca34e867"
      },
      "outputs": [
        {
          "output_type": "execute_result",
          "data": {
            "text/plain": [
              "4"
            ]
          },
          "metadata": {},
          "execution_count": 3
        }
      ],
      "source": [
        " # Addition  \n",
        "2 + 2 "
      ]
    },
    {
      "cell_type": "code",
      "source": [
        "# Subtraction\n",
        "23-7"
      ],
      "metadata": {
        "colab": {
          "base_uri": "https://localhost:8080/"
        },
        "id": "hQdofMzxoEo5",
        "outputId": "aab5bc37-4248-4a2b-c9e5-717674cf82ef"
      },
      "execution_count": null,
      "outputs": [
        {
          "output_type": "execute_result",
          "data": {
            "text/plain": [
              "16"
            ]
          },
          "metadata": {},
          "execution_count": 4
        }
      ]
    },
    {
      "cell_type": "code",
      "source": [
        "# Multiplication \n",
        "13 * 7"
      ],
      "metadata": {
        "colab": {
          "base_uri": "https://localhost:8080/"
        },
        "id": "wTPPkoYDoWQE",
        "outputId": "94175a8c-93fb-45ce-c1e6-f7ce43ebf7c8"
      },
      "execution_count": null,
      "outputs": [
        {
          "output_type": "execute_result",
          "data": {
            "text/plain": [
              "91"
            ]
          },
          "metadata": {},
          "execution_count": 5
        }
      ]
    },
    {
      "cell_type": "code",
      "source": [
        "# Division \n",
        "10 /3 "
      ],
      "metadata": {
        "colab": {
          "base_uri": "https://localhost:8080/"
        },
        "id": "W9hmRz_docoN",
        "outputId": "16f47eb4-03c4-4671-8ab1-ea2252ded23b"
      },
      "execution_count": null,
      "outputs": [
        {
          "output_type": "execute_result",
          "data": {
            "text/plain": [
              "3.3333333333333335"
            ]
          },
          "metadata": {},
          "execution_count": 6
        }
      ]
    },
    {
      "cell_type": "code",
      "source": [
        "# Integer Division \n",
        "10 // 3 "
      ],
      "metadata": {
        "colab": {
          "base_uri": "https://localhost:8080/"
        },
        "id": "yd3svsEiot8d",
        "outputId": "2d3d7fb6-6a68-4fff-b221-e9472a8c6299"
      },
      "execution_count": null,
      "outputs": [
        {
          "output_type": "execute_result",
          "data": {
            "text/plain": [
              "3"
            ]
          },
          "metadata": {},
          "execution_count": 7
        }
      ]
    },
    {
      "cell_type": "markdown",
      "source": [
        "## 3.3 Integers and Real Numbers \n"
      ],
      "metadata": {
        "id": "fGtdWJb3kvl1"
      }
    },
    {
      "cell_type": "code",
      "source": [
        "from typing_extensions import Type\n",
        " # Interger (with no decimal positions)\n",
        " Type 26"
      ],
      "metadata": {
        "colab": {
          "base_uri": "https://localhost:8080/",
          "height": 130
        },
        "id": "gdrUy905k70P",
        "outputId": "32201239-eea3-46c3-a17e-fec41f5063af"
      },
      "execution_count": 14,
      "outputs": [
        {
          "output_type": "error",
          "ename": "IndentationError",
          "evalue": "ignored",
          "traceback": [
            "\u001b[0;36m  File \u001b[0;32m\"<ipython-input-14-025b073bc0d0>\"\u001b[0;36m, line \u001b[0;32m3\u001b[0m\n\u001b[0;31m    Type 26\u001b[0m\n\u001b[0m    ^\u001b[0m\n\u001b[0;31mIndentationError\u001b[0m\u001b[0;31m:\u001b[0m unexpected indent\n"
          ]
        }
      ]
    },
    {
      "cell_type": "code",
      "source": [
        "# Examples \n",
        "# Find out in the next expressions are int or floats \n",
        "2 + 3.0\n",
        "2.5*7\n",
        "4.0/2"
      ],
      "metadata": {
        "colab": {
          "base_uri": "https://localhost:8080/"
        },
        "id": "vPj_VLxvmSbm",
        "outputId": "82888a19-df66-4b98-e078-c4ceabe632f2"
      },
      "execution_count": 8,
      "outputs": [
        {
          "output_type": "execute_result",
          "data": {
            "text/plain": [
              "2.0"
            ]
          },
          "metadata": {},
          "execution_count": 8
        }
      ]
    },
    {
      "cell_type": "code",
      "source": [
        " type(2 + 3.0)"
      ],
      "metadata": {
        "colab": {
          "base_uri": "https://localhost:8080/"
        },
        "id": "ZAdDD1n-moYz",
        "outputId": "2d9e4d18-f0ec-4847-ed56-8a61f573b37f"
      },
      "execution_count": 10,
      "outputs": [
        {
          "output_type": "execute_result",
          "data": {
            "text/plain": [
              "float"
            ]
          },
          "metadata": {},
          "execution_count": 10
        }
      ]
    },
    {
      "cell_type": "markdown",
      "source": [
        " ## Scientific notation \n"
      ],
      "metadata": {
        "id": "U3bl65ptn0c_"
      }
    },
    {
      "cell_type": "code",
      "source": [
        "# Example \n",
        "\n",
        "5e1\n"
      ],
      "metadata": {
        "colab": {
          "base_uri": "https://localhost:8080/"
        },
        "id": "mP60pYgVn7rk",
        "outputId": "0af1193b-2520-4c4b-8447-108e9c017b3d"
      },
      "execution_count": 26,
      "outputs": [
        {
          "output_type": "execute_result",
          "data": {
            "text/plain": [
              "50.0"
            ]
          },
          "metadata": {},
          "execution_count": 26
        }
      ]
    },
    {
      "cell_type": "code",
      "source": [
        "# Example \n",
        "6e-2"
      ],
      "metadata": {
        "colab": {
          "base_uri": "https://localhost:8080/"
        },
        "id": "EUS43448oHgC",
        "outputId": "ec1bd460-44f1-41fe-9a2c-3fa5d778c7ce"
      },
      "execution_count": 16,
      "outputs": [
        {
          "output_type": "execute_result",
          "data": {
            "text/plain": [
              "0.06"
            ]
          },
          "metadata": {},
          "execution_count": 16
        }
      ]
    },
    {
      "cell_type": "code",
      "source": [
        "type(5e1)"
      ],
      "metadata": {
        "colab": {
          "base_uri": "https://localhost:8080/"
        },
        "id": "9SBa5Zl6oeYf",
        "outputId": "c31e1781-729c-416f-c584-5b88987e21fb"
      },
      "execution_count": 17,
      "outputs": [
        {
          "output_type": "execute_result",
          "data": {
            "text/plain": [
              "float"
            ]
          },
          "metadata": {},
          "execution_count": 17
        }
      ]
    },
    {
      "cell_type": "code",
      "source": [
        "# Practice \n",
        "# Write 1millon in scientific notation \n",
        "# What is the result of 3e0.2"
      ],
      "metadata": {
        "id": "u24EmmQBojHY"
      },
      "execution_count": 20,
      "outputs": []
    },
    {
      "cell_type": "code",
      "source": [
        "# Write 1millon in scientific notation \n",
        "\n",
        "1e6"
      ],
      "metadata": {
        "colab": {
          "base_uri": "https://localhost:8080/"
        },
        "id": "oukxFi9ro7Ja",
        "outputId": "1a6f110a-0c32-4c6a-ab41-8b7adfcad4e2"
      },
      "execution_count": 23,
      "outputs": [
        {
          "output_type": "execute_result",
          "data": {
            "text/plain": [
              "1000000.0"
            ]
          },
          "metadata": {},
          "execution_count": 23
        }
      ]
    },
    {
      "cell_type": "code",
      "source": [
        "# What is the result of 3e0.2?\n",
        "\n",
        "3e02"
      ],
      "metadata": {
        "colab": {
          "base_uri": "https://localhost:8080/"
        },
        "id": "9gQRlmo_pPcC",
        "outputId": "fc140e22-d44f-4d30-8dc6-bf52aa55cea9"
      },
      "execution_count": 24,
      "outputs": [
        {
          "output_type": "execute_result",
          "data": {
            "text/plain": [
              "300.0"
            ]
          },
          "metadata": {},
          "execution_count": 24
        }
      ]
    },
    {
      "cell_type": "markdown",
      "source": [
        "### Transformation \n",
        "  You can the of type() a number. Or you can force of a type() number "
      ],
      "metadata": {
        "id": "DExlfeBFqOUo"
      }
    },
    {
      "cell_type": "code",
      "source": [
        "float(6)"
      ],
      "metadata": {
        "colab": {
          "base_uri": "https://localhost:8080/"
        },
        "id": "Tl7rBq8aqqwK",
        "outputId": "f67081bd-e192-44c2-9b8e-3f544e126479"
      },
      "execution_count": 28,
      "outputs": [
        {
          "output_type": "execute_result",
          "data": {
            "text/plain": [
              "6.0"
            ]
          },
          "metadata": {},
          "execution_count": 28
        }
      ]
    },
    {
      "cell_type": "code",
      "source": [
        "#Example\n",
        "int(3.33333)"
      ],
      "metadata": {
        "colab": {
          "base_uri": "https://localhost:8080/"
        },
        "id": "3QsQMRxOqws1",
        "outputId": "ac4cb103-e3ca-47e3-9dc8-fc0c2d39998d"
      },
      "execution_count": 31,
      "outputs": [
        {
          "output_type": "execute_result",
          "data": {
            "text/plain": [
              "3"
            ]
          },
          "metadata": {},
          "execution_count": 31
        }
      ]
    }
  ]
}