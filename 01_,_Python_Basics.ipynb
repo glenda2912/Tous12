{
  "nbformat": 4,
  "nbformat_minor": 0,
  "metadata": {
    "colab": {
      "provenance": [],
      "authorship_tag": "ABX9TyPgGIk0/gvGXIqnmQjbaqdS",
      "include_colab_link": true
    },
    "kernelspec": {
      "name": "python3",
      "display_name": "Python 3"
    },
    "language_info": {
      "name": "python"
    }
  },
  "cells": [
    {
      "cell_type": "markdown",
      "metadata": {
        "id": "view-in-github",
        "colab_type": "text"
      },
      "source": [
        "<a href=\"https://colab.research.google.com/github/glenda2912/Tous12/blob/main/01_%2C_Python_Basics.ipynb\" target=\"_parent\"><img src=\"https://colab.research.google.com/assets/colab-badge.svg\" alt=\"Open In Colab\"/></a>"
      ]
    },
    {
      "cell_type": "markdown",
      "source": [
        "# Introduction \n",
        "\n",
        "Here, in this file, we are going to *code* \n",
        "\n",
        "we are going to understand Python, how its works, and some tricks. \n"
      ],
      "metadata": {
        "id": "zpDuRcBikGrr"
      }
    },
    {
      "cell_type": "markdown",
      "source": [
        "# 1. What is Python?\n",
        "\n",
        "It was created in 1991 and its a **general-purpuse progaming langiage**\n",
        "\n",
        "This means that Pyhton is used for: \n",
        "\n",
        "* Data analysis\n",
        "* Automating task\n",
        "* Machine learning \n",
        "* Data Visualization \n",
        "* Optimization \n",
        "* Web development \n",
        "* User Interfaces creation \n",
        "* Create another software\n",
        "* Create video games \n",
        "\n",
        "The word runs of Python, C++, Java and HTLM /CSS, and R? \n",
        "\n"
      ],
      "metadata": {
        "id": "PkXiSuhykavd"
      }
    },
    {
      "cell_type": "markdown",
      "source": [
        "# 2. Why Python?\n",
        "\n",
        "The main reasons: \n",
        "\n",
        " * It is simple. \n",
        " * Focus. \n",
        " * Easy to learn \n",
        " * Open-source: It is free.\n",
        " * Cross-plaform.\n",
        " * Extensive libraries. \n"
      ],
      "metadata": {
        "id": "vSaJmnzKlsRj"
      }
    },
    {
      "cell_type": "markdown",
      "source": [
        "# 3. Getting Started\n"
      ],
      "metadata": {
        "id": "BnCxdY5cmxr_"
      }
    },
    {
      "cell_type": "markdown",
      "source": [
        "## 3.1. Python as a Calculator \n"
      ],
      "metadata": {
        "id": "7dYi_wrCm3v1"
      }
    },
    {
      "cell_type": "code",
      "execution_count": 3,
      "metadata": {
        "colab": {
          "base_uri": "https://localhost:8080/"
        },
        "id": "4fn5jfiujuRp",
        "outputId": "1c3ecf91-028e-4f00-c725-2149ca34e867"
      },
      "outputs": [
        {
          "output_type": "execute_result",
          "data": {
            "text/plain": [
              "4"
            ]
          },
          "metadata": {},
          "execution_count": 3
        }
      ],
      "source": [
        " # Addition  \n",
        "2 + 2 "
      ]
    },
    {
      "cell_type": "code",
      "source": [
        "# Subtraction\n",
        "23-7"
      ],
      "metadata": {
        "colab": {
          "base_uri": "https://localhost:8080/"
        },
        "id": "hQdofMzxoEo5",
        "outputId": "aab5bc37-4248-4a2b-c9e5-717674cf82ef"
      },
      "execution_count": 4,
      "outputs": [
        {
          "output_type": "execute_result",
          "data": {
            "text/plain": [
              "16"
            ]
          },
          "metadata": {},
          "execution_count": 4
        }
      ]
    },
    {
      "cell_type": "code",
      "source": [
        "# Multiplication \n",
        "13 * 7"
      ],
      "metadata": {
        "colab": {
          "base_uri": "https://localhost:8080/"
        },
        "id": "wTPPkoYDoWQE",
        "outputId": "94175a8c-93fb-45ce-c1e6-f7ce43ebf7c8"
      },
      "execution_count": 5,
      "outputs": [
        {
          "output_type": "execute_result",
          "data": {
            "text/plain": [
              "91"
            ]
          },
          "metadata": {},
          "execution_count": 5
        }
      ]
    },
    {
      "cell_type": "code",
      "source": [
        "# Division \n",
        "10 /3 "
      ],
      "metadata": {
        "colab": {
          "base_uri": "https://localhost:8080/"
        },
        "id": "W9hmRz_docoN",
        "outputId": "16f47eb4-03c4-4671-8ab1-ea2252ded23b"
      },
      "execution_count": 6,
      "outputs": [
        {
          "output_type": "execute_result",
          "data": {
            "text/plain": [
              "3.3333333333333335"
            ]
          },
          "metadata": {},
          "execution_count": 6
        }
      ]
    },
    {
      "cell_type": "code",
      "source": [
        "# Integer Division \n",
        "10 // 3 "
      ],
      "metadata": {
        "colab": {
          "base_uri": "https://localhost:8080/"
        },
        "id": "yd3svsEiot8d",
        "outputId": "2d3d7fb6-6a68-4fff-b221-e9472a8c6299"
      },
      "execution_count": 7,
      "outputs": [
        {
          "output_type": "execute_result",
          "data": {
            "text/plain": [
              "3"
            ]
          },
          "metadata": {},
          "execution_count": 7
        }
      ]
    }
  ]
}