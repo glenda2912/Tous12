{
  "nbformat": 4,
  "nbformat_minor": 0,
  "metadata": {
    "colab": {
      "provenance": [],
      "authorship_tag": "ABX9TyOe3xZckWZ/vHD0SDy8Rd6/",
      "include_colab_link": true
    },
    "kernelspec": {
      "name": "python3",
      "display_name": "Python 3"
    },
    "language_info": {
      "name": "python"
    }
  },
  "cells": [
    {
      "cell_type": "markdown",
      "metadata": {
        "id": "view-in-github",
        "colab_type": "text"
      },
      "source": [
        "<a href=\"https://colab.research.google.com/github/glenda2912/Tous12/blob/main/01_%2C_Python_Basics.ipynb\" target=\"_parent\"><img src=\"https://colab.research.google.com/assets/colab-badge.svg\" alt=\"Open In Colab\"/></a>"
      ]
    },
    {
      "cell_type": "markdown",
      "source": [
        "# Introduction \n",
        "\n",
        "Here, in this file, we are going to *code* \n",
        "\n",
        "we are going to understand Python, how its works, and some tricks. \n"
      ],
      "metadata": {
        "id": "zpDuRcBikGrr"
      }
    },
    {
      "cell_type": "markdown",
      "source": [
        "# 1. What is Python?\n",
        "\n",
        "It was created in 1991 and its a **general-purpuse progaming language**.\n",
        "\n",
        "This means that Pyhton is used for: \n",
        "\n",
        "* Data analysis\n",
        "* Automating task\n",
        "* Machine learning \n",
        "* Data Visualization \n",
        "* Optimization \n",
        "* Web development \n",
        "* User Interfaces creation \n",
        "* Create another software\n",
        "* Create video games \n",
        "\n",
        "The word runs of Python, C++, Java and HTLM /CSS, and R? \n",
        "\n"
      ],
      "metadata": {
        "id": "PkXiSuhykavd"
      }
    },
    {
      "cell_type": "markdown",
      "source": [
        "# 2. Why Python?\n",
        "\n",
        "The main reasons: \n",
        "\n",
        " * It is simple. \n",
        " * Focus. \n",
        " * Easy to learn \n",
        " * Open-source: It is free.\n",
        " * Cross-plaform.\n",
        " * Extensive libraries. \n"
      ],
      "metadata": {
        "id": "vSaJmnzKlsRj"
      }
    },
    {
      "cell_type": "markdown",
      "source": [
        "# 3. Getting Started\n"
      ],
      "metadata": {
        "id": "BnCxdY5cmxr_"
      }
    },
    {
      "cell_type": "markdown",
      "source": [
        "## 3.1. Python as a Calculator \n"
      ],
      "metadata": {
        "id": "7dYi_wrCm3v1"
      }
    },
    {
      "cell_type": "code",
      "execution_count": null,
      "metadata": {
        "colab": {
          "base_uri": "https://localhost:8080/"
        },
        "id": "4fn5jfiujuRp",
        "outputId": "1c3ecf91-028e-4f00-c725-2149ca34e867"
      },
      "outputs": [
        {
          "output_type": "execute_result",
          "data": {
            "text/plain": [
              "4"
            ]
          },
          "metadata": {},
          "execution_count": 3
        }
      ],
      "source": [
        " # Addition  \n",
        "2 + 2 "
      ]
    },
    {
      "cell_type": "code",
      "source": [
        "# Subtraction\n",
        "23-7"
      ],
      "metadata": {
        "colab": {
          "base_uri": "https://localhost:8080/"
        },
        "id": "hQdofMzxoEo5",
        "outputId": "aab5bc37-4248-4a2b-c9e5-717674cf82ef"
      },
      "execution_count": null,
      "outputs": [
        {
          "output_type": "execute_result",
          "data": {
            "text/plain": [
              "16"
            ]
          },
          "metadata": {},
          "execution_count": 4
        }
      ]
    },
    {
      "cell_type": "code",
      "source": [
        "# Multiplication \n",
        "13 * 7"
      ],
      "metadata": {
        "colab": {
          "base_uri": "https://localhost:8080/"
        },
        "id": "wTPPkoYDoWQE",
        "outputId": "94175a8c-93fb-45ce-c1e6-f7ce43ebf7c8"
      },
      "execution_count": null,
      "outputs": [
        {
          "output_type": "execute_result",
          "data": {
            "text/plain": [
              "91"
            ]
          },
          "metadata": {},
          "execution_count": 5
        }
      ]
    },
    {
      "cell_type": "code",
      "source": [
        "# Division \n",
        "10 /3 "
      ],
      "metadata": {
        "colab": {
          "base_uri": "https://localhost:8080/"
        },
        "id": "W9hmRz_docoN",
        "outputId": "16f47eb4-03c4-4671-8ab1-ea2252ded23b"
      },
      "execution_count": null,
      "outputs": [
        {
          "output_type": "execute_result",
          "data": {
            "text/plain": [
              "3.3333333333333335"
            ]
          },
          "metadata": {},
          "execution_count": 6
        }
      ]
    },
    {
      "cell_type": "code",
      "source": [
        "# Integer Division \n",
        "10 // 3 "
      ],
      "metadata": {
        "colab": {
          "base_uri": "https://localhost:8080/"
        },
        "id": "yd3svsEiot8d",
        "outputId": "2d3d7fb6-6a68-4fff-b221-e9472a8c6299"
      },
      "execution_count": null,
      "outputs": [
        {
          "output_type": "execute_result",
          "data": {
            "text/plain": [
              "3"
            ]
          },
          "metadata": {},
          "execution_count": 7
        }
      ]
    },
    {
      "cell_type": "code",
      "source": [
        " # Exponential \n",
        " 2**3"
      ],
      "metadata": {
        "colab": {
          "base_uri": "https://localhost:8080/"
        },
        "id": "tecSEgJSMWMI",
        "outputId": "c0df1674-d5ea-4d31-fd0a-90a24256f946"
      },
      "execution_count": null,
      "outputs": [
        {
          "output_type": "execute_result",
          "data": {
            "text/plain": [
              "8"
            ]
          },
          "metadata": {},
          "execution_count": 1
        }
      ]
    },
    {
      "cell_type": "markdown",
      "source": [
        "## 3.2 Composite operations and Parenthesis \n",
        "\n",
        "Operator precedence \n",
        "\n"
      ],
      "metadata": {
        "id": "x-WKFmOYMhvf"
      }
    },
    {
      "cell_type": "code",
      "source": [
        " # Example \n",
        "\n",
        " 2+ 3*4"
      ],
      "metadata": {
        "colab": {
          "base_uri": "https://localhost:8080/"
        },
        "id": "L0tGVQ9AMzf-",
        "outputId": "2838f2b2-9488-489d-8275-f75ca6fb7e97"
      },
      "execution_count": null,
      "outputs": [
        {
          "output_type": "execute_result",
          "data": {
            "text/plain": [
              "14"
            ]
          },
          "metadata": {},
          "execution_count": 2
        }
      ]
    },
    {
      "cell_type": "markdown",
      "source": [
        "You can change the operator precedence using **parenthesis**"
      ],
      "metadata": {
        "id": "ya2D-XdWM7G8"
      }
    },
    {
      "cell_type": "code",
      "source": [
        "# Example \n",
        "(2 +3)*4"
      ],
      "metadata": {
        "colab": {
          "base_uri": "https://localhost:8080/"
        },
        "id": "74ZqrpHANEn5",
        "outputId": "e9f66ef5-4141-4921-b4aa-a290f9fc53a4"
      },
      "execution_count": 29,
      "outputs": [
        {
          "output_type": "execute_result",
          "data": {
            "text/plain": [
              "20"
            ]
          },
          "metadata": {},
          "execution_count": 29
        }
      ]
    },
    {
      "cell_type": "markdown",
      "source": [
        "## 3.3 Integers and Real Numbers \n"
      ],
      "metadata": {
        "id": "fGtdWJb3kvl1"
      }
    },
    {
      "cell_type": "markdown",
      "source": [
        "### Type\n"
      ],
      "metadata": {
        "id": "Dj_3KJkGNRwN"
      }
    },
    {
      "cell_type": "code",
      "source": [
        "# Interger (with no decimal positions)\n",
        "type(26)"
      ],
      "metadata": {
        "colab": {
          "base_uri": "https://localhost:8080/"
        },
        "id": "gdrUy905k70P",
        "outputId": "d87e00e6-a33f-4554-fc19-f688c84ba3c8"
      },
      "execution_count": null,
      "outputs": [
        {
          "output_type": "execute_result",
          "data": {
            "text/plain": [
              "int"
            ]
          },
          "metadata": {},
          "execution_count": 4
        }
      ]
    },
    {
      "cell_type": "code",
      "source": [
        "# Real number (with decimal positions)\n",
        "type(26.0)"
      ],
      "metadata": {
        "colab": {
          "base_uri": "https://localhost:8080/"
        },
        "id": "4AcyCWc_NdQ1",
        "outputId": "067fbc80-3d13-4c0b-f636-99905ff0247a"
      },
      "execution_count": null,
      "outputs": [
        {
          "output_type": "execute_result",
          "data": {
            "text/plain": [
              "float"
            ]
          },
          "metadata": {},
          "execution_count": 5
        }
      ]
    },
    {
      "cell_type": "code",
      "source": [
        "# Examples \n",
        "# Find out in the next expressions are int or floats \n",
        "2 + 3.0\n",
        "2.5*7\n",
        "4.0/2"
      ],
      "metadata": {
        "colab": {
          "base_uri": "https://localhost:8080/"
        },
        "id": "vPj_VLxvmSbm",
        "outputId": "82888a19-df66-4b98-e078-c4ceabe632f2"
      },
      "execution_count": null,
      "outputs": [
        {
          "output_type": "execute_result",
          "data": {
            "text/plain": [
              "2.0"
            ]
          },
          "metadata": {},
          "execution_count": 8
        }
      ]
    },
    {
      "cell_type": "code",
      "source": [
        "type(2 + 3.0)"
      ],
      "metadata": {
        "colab": {
          "base_uri": "https://localhost:8080/"
        },
        "id": "ZAdDD1n-moYz",
        "outputId": "5ce50706-95b3-4b24-afe6-ad3fed54f66b"
      },
      "execution_count": null,
      "outputs": [
        {
          "output_type": "execute_result",
          "data": {
            "text/plain": [
              "float"
            ]
          },
          "metadata": {},
          "execution_count": 7
        }
      ]
    },
    {
      "cell_type": "markdown",
      "source": [
        " ## Scientific notation \n"
      ],
      "metadata": {
        "id": "U3bl65ptn0c_"
      }
    },
    {
      "cell_type": "code",
      "source": [
        "# Example \n",
        "\n",
        "5e1\n"
      ],
      "metadata": {
        "colab": {
          "base_uri": "https://localhost:8080/"
        },
        "id": "mP60pYgVn7rk",
        "outputId": "0af1193b-2520-4c4b-8447-108e9c017b3d"
      },
      "execution_count": null,
      "outputs": [
        {
          "output_type": "execute_result",
          "data": {
            "text/plain": [
              "50.0"
            ]
          },
          "metadata": {},
          "execution_count": 26
        }
      ]
    },
    {
      "cell_type": "code",
      "source": [
        "# Example \n",
        "6e-2"
      ],
      "metadata": {
        "colab": {
          "base_uri": "https://localhost:8080/"
        },
        "id": "EUS43448oHgC",
        "outputId": "ec1bd460-44f1-41fe-9a2c-3fa5d778c7ce"
      },
      "execution_count": null,
      "outputs": [
        {
          "output_type": "execute_result",
          "data": {
            "text/plain": [
              "0.06"
            ]
          },
          "metadata": {},
          "execution_count": 16
        }
      ]
    },
    {
      "cell_type": "code",
      "source": [
        "type(5e1)"
      ],
      "metadata": {
        "colab": {
          "base_uri": "https://localhost:8080/"
        },
        "id": "9SBa5Zl6oeYf",
        "outputId": "c31e1781-729c-416f-c584-5b88987e21fb"
      },
      "execution_count": null,
      "outputs": [
        {
          "output_type": "execute_result",
          "data": {
            "text/plain": [
              "float"
            ]
          },
          "metadata": {},
          "execution_count": 17
        }
      ]
    },
    {
      "cell_type": "code",
      "source": [
        "# Practice \n",
        "# Write 1millon in scientific notation \n",
        "# What is the result of 3e0.2"
      ],
      "metadata": {
        "id": "u24EmmQBojHY"
      },
      "execution_count": null,
      "outputs": []
    },
    {
      "cell_type": "code",
      "source": [
        "# Write 1millon in scientific notation \n",
        "\n",
        "1e6"
      ],
      "metadata": {
        "colab": {
          "base_uri": "https://localhost:8080/"
        },
        "id": "oukxFi9ro7Ja",
        "outputId": "1a6f110a-0c32-4c6a-ab41-8b7adfcad4e2"
      },
      "execution_count": null,
      "outputs": [
        {
          "output_type": "execute_result",
          "data": {
            "text/plain": [
              "1000000.0"
            ]
          },
          "metadata": {},
          "execution_count": 23
        }
      ]
    },
    {
      "cell_type": "code",
      "source": [
        "# What is the result of 3e0.2?\n",
        "\n",
        "3e02"
      ],
      "metadata": {
        "colab": {
          "base_uri": "https://localhost:8080/"
        },
        "id": "9gQRlmo_pPcC",
        "outputId": "fc140e22-d44f-4d30-8dc6-bf52aa55cea9"
      },
      "execution_count": null,
      "outputs": [
        {
          "output_type": "execute_result",
          "data": {
            "text/plain": [
              "300.0"
            ]
          },
          "metadata": {},
          "execution_count": 24
        }
      ]
    },
    {
      "cell_type": "markdown",
      "source": [
        "### Transformation \n",
        "  You can the of type() a number. Or you can force of a type() number "
      ],
      "metadata": {
        "id": "DExlfeBFqOUo"
      }
    },
    {
      "cell_type": "code",
      "source": [
        "float(6)"
      ],
      "metadata": {
        "colab": {
          "base_uri": "https://localhost:8080/"
        },
        "id": "Tl7rBq8aqqwK",
        "outputId": "f67081bd-e192-44c2-9b8e-3f544e126479"
      },
      "execution_count": null,
      "outputs": [
        {
          "output_type": "execute_result",
          "data": {
            "text/plain": [
              "6.0"
            ]
          },
          "metadata": {},
          "execution_count": 28
        }
      ]
    },
    {
      "cell_type": "code",
      "source": [
        "#Example\n",
        "int(3.33333)"
      ],
      "metadata": {
        "colab": {
          "base_uri": "https://localhost:8080/"
        },
        "id": "3QsQMRxOqws1",
        "outputId": "ac4cb103-e3ca-47e3-9dc8-fc0c2d39998d"
      },
      "execution_count": null,
      "outputs": [
        {
          "output_type": "execute_result",
          "data": {
            "text/plain": [
              "3"
            ]
          },
          "metadata": {},
          "execution_count": 31
        }
      ]
    },
    {
      "cell_type": "markdown",
      "source": [
        "### **Print**"
      ],
      "metadata": {
        "id": "eO2DCRHGeR3_"
      }
    },
    {
      "cell_type": "code",
      "source": [
        "# Example with numbers \n",
        "\n",
        "print(2023)\n",
        "print(2024)\n",
        "print(22,2,2022)"
      ],
      "metadata": {
        "colab": {
          "base_uri": "https://localhost:8080/"
        },
        "id": "3FweWKu9eYAr",
        "outputId": "7a6c7fa8-f4aa-4fa8-fd84-325f3aece7e9"
      },
      "execution_count": 4,
      "outputs": [
        {
          "output_type": "stream",
          "name": "stdout",
          "text": [
            "2023\n",
            "2024\n",
            "22 2 2022\n"
          ]
        }
      ]
    },
    {
      "cell_type": "code",
      "source": [
        "# Example - hard version\n",
        "\n",
        "for i in range(0,11): print(i)"
      ],
      "metadata": {
        "colab": {
          "base_uri": "https://localhost:8080/"
        },
        "id": "0rsC7Qh9gnBs",
        "outputId": "72feffaf-f671-4a65-8ac6-ef4bd8f3488f"
      },
      "execution_count": 5,
      "outputs": [
        {
          "output_type": "stream",
          "name": "stdout",
          "text": [
            "0\n",
            "1\n",
            "2\n",
            "3\n",
            "4\n",
            "5\n",
            "6\n",
            "7\n",
            "8\n",
            "9\n",
            "10\n"
          ]
        }
      ]
    },
    {
      "cell_type": "code",
      "source": [
        "# Example - With Text \n",
        "\n",
        "print(\"Hello World\")\n",
        "print(\"First Name: Jose\", \"Second Name: Rodrigo\")\n",
        "print(\"First Name: Jose\", \"\\tSecond Name: Rodrigo\")\n",
        "print(\"First Name: Jose\", \"\\nSecond Name: Rodrigo\")\n"
      ],
      "metadata": {
        "colab": {
          "base_uri": "https://localhost:8080/"
        },
        "id": "Ezd-K6aAhVMs",
        "outputId": "2e4bf257-f936-473e-cc5b-e287a9f59a26"
      },
      "execution_count": 9,
      "outputs": [
        {
          "output_type": "stream",
          "name": "stdout",
          "text": [
            "Hello World\n",
            "First Name: Jose Second Name: Rodrigo\n",
            "First Name: Jose \tSecond Name: Rodrigo\n",
            "First Name: Jose \n",
            "Second Name: Rodrigo\n"
          ]
        }
      ]
    },
    {
      "cell_type": "code",
      "source": [
        "# Example - text and numbers \n",
        "\n",
        "print(\"My lucky number is:\", 21)"
      ],
      "metadata": {
        "colab": {
          "base_uri": "https://localhost:8080/"
        },
        "id": "XFIafBoBiz3i",
        "outputId": "68e53150-5b18-425a-8ab6-dd0833e1576f"
      },
      "execution_count": 10,
      "outputs": [
        {
          "output_type": "stream",
          "name": "stdout",
          "text": [
            "My lucky number is: 21\n"
          ]
        }
      ]
    },
    {
      "cell_type": "markdown",
      "source": [
        "##  **Round**\n",
        "It will tle us to control the decimal positions.\n"
      ],
      "metadata": {
        "id": "JTj5jjNIjEcl"
      }
    },
    {
      "cell_type": "code",
      "source": [
        "# Example \n",
        "# Consider 8.53214794\n",
        "# Let's use round \n",
        "\n",
        "print('The approximation of', 8.53214794, 'with', 0,'decimals is:', round(8.53214794, 0))\n",
        "print('The approximation of', 8.53214794, 'with', 1,'decimals is:', round(8.53214794, 1))\n",
        "\n",
        "round(8.53214794, 0)"
      ],
      "metadata": {
        "colab": {
          "base_uri": "https://localhost:8080/"
        },
        "id": "soYK2OJpjOKN",
        "outputId": "c3ba1a15-5eea-4d17-88ed-327254cb5be1"
      },
      "execution_count": 19,
      "outputs": [
        {
          "output_type": "stream",
          "name": "stdout",
          "text": [
            "The approximation of 8.53214794 with 0 decimals is: 9.0\n",
            "The approximation of 8.53214794 with 1 decimals is: 8.5\n"
          ]
        },
        {
          "output_type": "execute_result",
          "data": {
            "text/plain": [
              "9.0"
            ]
          },
          "metadata": {},
          "execution_count": 19
        }
      ]
    },
    {
      "cell_type": "code",
      "source": [
        "print('The approximation of', 8.53214794, 'with:')\n",
        "print(0,'decimals is:', round(8.53214794, 0))\n",
        "print(1, 'decimals is:',round(8.53214794,1))"
      ],
      "metadata": {
        "colab": {
          "base_uri": "https://localhost:8080/"
        },
        "id": "BiHSRa5omirs",
        "outputId": "d04e7f96-e59b-4e8d-ac7a-d5ebf12b31cc"
      },
      "execution_count": 27,
      "outputs": [
        {
          "output_type": "stream",
          "name": "stdout",
          "text": [
            "The approximation of 8.53214794 with:\n",
            "0 decimals is: 9.0\n",
            "1 decimals is: 8.5\n"
          ]
        }
      ]
    },
    {
      "cell_type": "code",
      "source": [
        "print('The approximation of', 8.53214794, 'with:')\n",
        "print('Decimals', 'Result')\n",
        "print(0,'\\t', round(8.53214794, 0))\n",
        "print(1,'\\t',round(8.53214794,1))"
      ],
      "metadata": {
        "colab": {
          "base_uri": "https://localhost:8080/"
        },
        "outputId": "095d8b12-58cf-40be-d7ef-7811d415bcf4",
        "id": "Hlo5nIxLoHeT"
      },
      "execution_count": 28,
      "outputs": [
        {
          "output_type": "stream",
          "name": "stdout",
          "text": [
            "The approximation of 8.53214794 with:\n",
            "Decimals Result\n",
            "0 \t 9.0\n",
            "1 \t 8.5\n"
          ]
        }
      ]
    },
    {
      "cell_type": "code",
      "source": [
        "print('The approximation of', 8.53214794, 'with:')\n",
        "print('Decimals', 'Result')\n",
        "print(0,'\\t', round(8.53214794, 0))\n",
        "print(1,'\\t', round(8.53214794, 1))\n",
        "print(2,'\\t', round(8.53214794, 2))\n",
        "print(3,'\\t', round(8.53214794, 3))\n",
        "print(4,'\\t', round(8.53214794, 4))\n",
        "print(5,'\\t', round(8.53214794, 5))\n",
        "print(6,'\\t', round(8.53214794, 6))\n",
        "print(7,'\\t', round(8.53214794, 7))"
      ],
      "metadata": {
        "colab": {
          "base_uri": "https://localhost:8080/"
        },
        "id": "W8h8tRADpPo_",
        "outputId": "1a8746e4-f299-4f2a-ea44-b82b0a264489"
      },
      "execution_count": 31,
      "outputs": [
        {
          "output_type": "stream",
          "name": "stdout",
          "text": [
            "The approximation of 8.53214794 with:\n",
            "Decimals Result\n",
            "0 \t 9.0\n",
            "1 \t 8.5\n",
            "2 \t 8.53\n",
            "3 \t 8.532\n",
            "4 \t 8.5321\n",
            "5 \t 8.53215\n",
            "6 \t 8.532148\n",
            "7 \t 8.5321479\n"
          ]
        }
      ]
    },
    {
      "cell_type": "code",
      "source": [
        "print('The approximation of', 8.53214794, 'with:')\n",
        "print('Decimals', 'Result')\n",
        "for i in range(0,8): \n",
        "  print(i,'\\t',round(8.53214794,i))\n"
      ],
      "metadata": {
        "colab": {
          "base_uri": "https://localhost:8080/"
        },
        "id": "MugFEWzbqIgV",
        "outputId": "9267dc67-ac07-498a-8148-3abcf59ca1f1"
      },
      "execution_count": 39,
      "outputs": [
        {
          "output_type": "stream",
          "name": "stdout",
          "text": [
            "The approximation of 8.53214794 with:\n",
            "Decimals Result\n",
            "0 \t 9.0\n",
            "1 \t 8.5\n",
            "2 \t 8.53\n",
            "3 \t 8.532\n",
            "4 \t 8.5321\n",
            "5 \t 8.53215\n",
            "6 \t 8.532148\n",
            "7 \t 8.5321479\n"
          ]
        }
      ]
    },
    {
      "cell_type": "code",
      "source": [
        "print('The first', 100, 'multiples of', 2, ':')\n",
        "print('Multiple', 'Result')\n",
        "for i in range(1,101):\n",
        "  print(i, '\\t', 2*i)"
      ],
      "metadata": {
        "colab": {
          "base_uri": "https://localhost:8080/"
        },
        "id": "TRFYJsASsmls",
        "outputId": "103a8ae0-9672-463f-c588-a4f2fb754bf5"
      },
      "execution_count": 56,
      "outputs": [
        {
          "output_type": "stream",
          "name": "stdout",
          "text": [
            "The first 100 multiples of 2 :\n",
            "Multiple Result\n",
            "1 \t 2\n",
            "2 \t 4\n",
            "3 \t 6\n",
            "4 \t 8\n",
            "5 \t 10\n",
            "6 \t 12\n",
            "7 \t 14\n",
            "8 \t 16\n",
            "9 \t 18\n",
            "10 \t 20\n",
            "11 \t 22\n",
            "12 \t 24\n",
            "13 \t 26\n",
            "14 \t 28\n",
            "15 \t 30\n",
            "16 \t 32\n",
            "17 \t 34\n",
            "18 \t 36\n",
            "19 \t 38\n",
            "20 \t 40\n",
            "21 \t 42\n",
            "22 \t 44\n",
            "23 \t 46\n",
            "24 \t 48\n",
            "25 \t 50\n",
            "26 \t 52\n",
            "27 \t 54\n",
            "28 \t 56\n",
            "29 \t 58\n",
            "30 \t 60\n",
            "31 \t 62\n",
            "32 \t 64\n",
            "33 \t 66\n",
            "34 \t 68\n",
            "35 \t 70\n",
            "36 \t 72\n",
            "37 \t 74\n",
            "38 \t 76\n",
            "39 \t 78\n",
            "40 \t 80\n",
            "41 \t 82\n",
            "42 \t 84\n",
            "43 \t 86\n",
            "44 \t 88\n",
            "45 \t 90\n",
            "46 \t 92\n",
            "47 \t 94\n",
            "48 \t 96\n",
            "49 \t 98\n",
            "50 \t 100\n",
            "51 \t 102\n",
            "52 \t 104\n",
            "53 \t 106\n",
            "54 \t 108\n",
            "55 \t 110\n",
            "56 \t 112\n",
            "57 \t 114\n",
            "58 \t 116\n",
            "59 \t 118\n",
            "60 \t 120\n",
            "61 \t 122\n",
            "62 \t 124\n",
            "63 \t 126\n",
            "64 \t 128\n",
            "65 \t 130\n",
            "66 \t 132\n",
            "67 \t 134\n",
            "68 \t 136\n",
            "69 \t 138\n",
            "70 \t 140\n",
            "71 \t 142\n",
            "72 \t 144\n",
            "73 \t 146\n",
            "74 \t 148\n",
            "75 \t 150\n",
            "76 \t 152\n",
            "77 \t 154\n",
            "78 \t 156\n",
            "79 \t 158\n",
            "80 \t 160\n",
            "81 \t 162\n",
            "82 \t 164\n",
            "83 \t 166\n",
            "84 \t 168\n",
            "85 \t 170\n",
            "86 \t 172\n",
            "87 \t 174\n",
            "88 \t 176\n",
            "89 \t 178\n",
            "90 \t 180\n",
            "91 \t 182\n",
            "92 \t 184\n",
            "93 \t 186\n",
            "94 \t 188\n",
            "95 \t 190\n",
            "96 \t 192\n",
            "97 \t 194\n",
            "98 \t 196\n",
            "99 \t 198\n",
            "100 \t 200\n"
          ]
        }
      ]
    }
  ]
}