{
  "nbformat": 4,
  "nbformat_minor": 0,
  "metadata": {
    "colab": {
      "provenance": [],
      "include_colab_link": true
    },
    "kernelspec": {
      "name": "python3",
      "display_name": "Python 3"
    },
    "language_info": {
      "name": "python"
    }
  },
  "cells": [
    {
      "cell_type": "markdown",
      "metadata": {
        "id": "view-in-github",
        "colab_type": "text"
      },
      "source": [
        "<a href=\"https://colab.research.google.com/github/glenda2912/Tous12/blob/main/Workshop_1.ipynb\" target=\"_parent\"><img src=\"https://colab.research.google.com/assets/colab-badge.svg\" alt=\"Open In Colab\"/></a>"
      ]
    },
    {
      "cell_type": "markdown",
      "source": [
        "<h1 align = \"center\">\n",
        "<strong> Universidad de La Salle </strong>\n",
        "</h1>\n",
        "\n",
        "<h1 align = \"center\">\n",
        "<strong> Finance and International Commerce Program </strong>\n",
        "</h1>\n",
        "\n",
        "<h1 align = \"center\">\n",
        "<strong> Data Visualization - Workshop 1 </strong>\n",
        "</h1>\n"
      ],
      "metadata": {
        "id": "BJolccUZSw9G"
      }
    },
    {
      "cell_type": "markdown",
      "source": [
        "# **Instructions**\n",
        "\n",
        "1. Please read carefully the document. Ask all the questions you may have.\n",
        "2. Save this file in your Google Drive.\n",
        "3. DO NOT alter any cell unless it specifically ask you to do it.\n",
        "4. You will have **two hours** (until 11am) maximum to finish and deliver this workshop.\n",
        "5. You can use any help you want: your notes, your codes, internet, classmates.\n",
        "6. Nevertheless, the workshop must be presented individually.\n",
        "7. Once you have finish, save a copy in your GitHub class repository.\n",
        "8. The deliver process is as follows:\n",
        "    \n",
        "    8.1. Via email you will send the link to the GitHub location.\n",
        "    \n",
        "    8.2. In the same mail, just for safety, you will attach a copy of your `.ipynb` file.\n",
        "    \n",
        "    8.3. The email must have the subject: \"W1 DV\".   "
      ],
      "metadata": {
        "id": "pLRc5RAyWsre"
      }
    },
    {
      "cell_type": "markdown",
      "source": [
        "# **To keep in mind**\n",
        "\n",
        "* The excercises propouse are intended to **push** you a little futher in your Pyton skills.\n",
        "* This means that there are going to be exercises above the level seen in class.\n",
        "* The idea is to incentive your creative thinking and solving problem skills.\n",
        "* As always there several ways to do the excersice. But in this case, I ask you to use only the tools we learned.\n",
        "* I ask you to trust me. Give your best effort. Grades do not matter here. "
      ],
      "metadata": {
        "id": "4QKdNKujZEbk"
      }
    },
    {
      "cell_type": "markdown",
      "source": [
        "# **Exercise Set**"
      ],
      "metadata": {
        "id": "2kRoSKUmaGl9"
      }
    },
    {
      "cell_type": "markdown",
      "source": [
        "## Ex 1.\n",
        "\n",
        "In the cell code below, first create a variable with your full name then write the appropiate code, using *sciling*, to print your full name as this:\n",
        "\n",
        "`First Name: José` &nbsp;   &nbsp;   &nbsp;   &nbsp;   &nbsp; `Middle Name: Rodrigo`\n",
        "\n",
        "`First Last  Name: Vélez` &nbsp;   &nbsp;   &nbsp;   &nbsp;   &nbsp; `Second Last Name: Molano`"
      ],
      "metadata": {
        "id": "LAdWe8iEaL7B"
      }
    },
    {
      "cell_type": "code",
      "execution_count": 25,
      "metadata": {
        "id": "rw792kISSt3n",
        "outputId": "cc290a37-1360-4b60-8433-e0a5e7d931a4",
        "colab": {
          "base_uri": "https://localhost:8080/"
        }
      },
      "outputs": [
        {
          "output_type": "stream",
          "name": "stdout",
          "text": [
            "Glenda Mitchell Aguirre Medina\n",
            "First Name: Glenda \tMiddle Name: Mitchell \n",
            "First Last Name: Aguirre \tSecond Last Name: Medina\n"
          ]
        }
      ],
      "source": [
        "# Answ. Ex 1\n",
        " \n",
        "name = \"Glenda Mitchell Aguirre Medina\" \n",
        "print(name)  \n",
        "\n",
        "print(\"First Name: Glenda\", \"\\tMiddle Name: Mitchell\",\"\\nFirst Last Name: Aguirre\", \"\\tSecond Last Name: Medina\")\n",
        "\n"
      ]
    },
    {
      "cell_type": "markdown",
      "source": [
        "## Ex 2.\n",
        "\n",
        "In the cell code below, you are given two random numbers `x` and `y`. \n",
        "\n",
        "Write the appropiate code to print the result of dividing `x` by all its precedents rounded by `y` decimal positions.\n",
        "\n",
        "This is an example of the expected result for `x = 15` and `y = 2`:\n",
        "\n",
        "`15 / 1 = 15.00`\n",
        "\n",
        "`15 / 2 = 7.50`\n",
        "\n",
        "`15 / 3 = 5.00`\n",
        "\n",
        "`...`\n",
        "\n",
        "`15 / 15 = 1.00`\n",
        "\n",
        "**JUST IN CASE!** You must use the variables given to you"
      ],
      "metadata": {
        "id": "YFsGiwcNfgzP"
      }
    },
    {
      "cell_type": "code",
      "source": [
        "# Answ. Ex 2 \n",
        "###################################\n",
        "#      DO NOT MODIFY THIS PART    #\n",
        "import numpy as np\n",
        "x = round(np.random.uniform(12,22))\n",
        "y = round(np.random.uniform(1,4))\n",
        "###################################\n",
        "\n",
        "# (write your code below)\n",
        "\n",
        "print('This is the resuly of dividing x by all its the precedents:')\n",
        "print('Number', 'Decimals')\n",
        "print(x)\n",
        "print(y)\n",
        "\n",
        "for i in range(1, x+1) : print(i,'\\t', round(x/i,y))\n"
      ],
      "metadata": {
        "id": "Dwdsh30Ti3vl",
        "outputId": "d1d2ae14-dde3-412e-993e-fca12d5ec935",
        "colab": {
          "base_uri": "https://localhost:8080/"
        }
      },
      "execution_count": 54,
      "outputs": [
        {
          "output_type": "stream",
          "name": "stdout",
          "text": [
            "This is the resuly of dividing x by all its the precedents:\n",
            "Number Decimals\n",
            "18\n",
            "1\n",
            "1 \t 18.0\n",
            "2 \t 9.0\n",
            "3 \t 6.0\n",
            "4 \t 4.5\n",
            "5 \t 3.6\n",
            "6 \t 3.0\n",
            "7 \t 2.6\n",
            "8 \t 2.2\n",
            "9 \t 2.0\n",
            "10 \t 1.8\n",
            "11 \t 1.6\n",
            "12 \t 1.5\n",
            "13 \t 1.4\n",
            "14 \t 1.3\n",
            "15 \t 1.2\n",
            "16 \t 1.1\n",
            "17 \t 1.1\n",
            "18 \t 1.0\n"
          ]
        }
      ]
    },
    {
      "cell_type": "markdown",
      "source": [
        "## Ex 3. \n",
        "\n",
        "The Fibonnaci sequence is a sequence constructed by the process:\n",
        "\n",
        "$x_{i} = x_{i-1} + x_{i-2}$\n",
        "\n",
        "where $x_{1} = x_{2} = 1$.\n",
        "\n",
        "Below you are given a random number `z`, write the appropiate code to calculate and print the `z`th position of the Fibonnaci sequence. \n",
        "\n",
        "\n"
      ],
      "metadata": {
        "id": "PYIRNu3imJ_n"
      }
    },
    {
      "cell_type": "code",
      "source": [
        "# Answ. Ex 3\n",
        "###################################\n",
        "#      DO NOT MODIFY THIS PART    #\n",
        "import numpy as np\n",
        "z = round(np.random.uniform(50,100))\n",
        "###################################\n",
        "\n",
        "# (write your code below)\n"
      ],
      "metadata": {
        "id": "wntlZUatp9uE"
      },
      "execution_count": null,
      "outputs": []
    },
    {
      "cell_type": "markdown",
      "source": [
        "## Ex 4.\n",
        "\n",
        "Create a string variable with the name of your favorite music artist or group.Write the appropiate code to print it in reversed order.\n",
        "\n",
        "*Example:*\n",
        "\n",
        "`w = 'Dog'`\n",
        "\n",
        "Expected result: `'goD'`.\n",
        "\n",
        "\n",
        "\n"
      ],
      "metadata": {
        "id": "2t2WnRieqLoc"
      }
    },
    {
      "cell_type": "code",
      "source": [
        "# Answ. Ex 4\n",
        "# (write your code below)\n",
        "\n",
        "w = \"Rosalia\"\n",
        "\n",
        "w[::-1]"
      ],
      "metadata": {
        "id": "FQU_vc_5sse0",
        "outputId": "6b728ce2-ac1f-4b22-c80e-7ceeff852454",
        "colab": {
          "base_uri": "https://localhost:8080/",
          "height": 36
        }
      },
      "execution_count": 35,
      "outputs": [
        {
          "output_type": "execute_result",
          "data": {
            "text/plain": [
              "'ailasoR'"
            ],
            "application/vnd.google.colaboratory.intrinsic+json": {
              "type": "string"
            }
          },
          "metadata": {},
          "execution_count": 35
        }
      ]
    }
  ]
}