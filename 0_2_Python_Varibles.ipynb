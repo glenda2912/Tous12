{
  "nbformat": 4,
  "nbformat_minor": 0,
  "metadata": {
    "colab": {
      "provenance": [],
      "authorship_tag": "ABX9TyP8GbQYsEcQjJqezCsV1ioh",
      "include_colab_link": true
    },
    "kernelspec": {
      "name": "python3",
      "display_name": "Python 3"
    },
    "language_info": {
      "name": "python"
    }
  },
  "cells": [
    {
      "cell_type": "markdown",
      "metadata": {
        "id": "view-in-github",
        "colab_type": "text"
      },
      "source": [
        "<a href=\"https://colab.research.google.com/github/glenda2912/Tous12/blob/main/0_2_Python_Varibles.ipynb\" target=\"_parent\"><img src=\"https://colab.research.google.com/assets/colab-badge.svg\" alt=\"Open In Colab\"/></a>"
      ]
    },
    {
      "cell_type": "markdown",
      "source": [
        "  # **1. What is a variable?**\n",
        "\n",
        "  A variable is a `container`, in the sense that it stores values."
      ],
      "metadata": {
        "id": "IE-__hvVw-zd"
      }
    },
    {
      "cell_type": "code",
      "execution_count": 4,
      "metadata": {
        "colab": {
          "base_uri": "https://localhost:8080/"
        },
        "id": "-5KqoEPHwmQY",
        "outputId": "45fa8e4a-655f-43e1-8361-9fd05e9f9c07"
      },
      "outputs": [
        {
          "output_type": "stream",
          "name": "stdout",
          "text": [
            "2.57\n"
          ]
        }
      ],
      "source": [
        "# Example \n",
        "\n",
        "a= 2.57\n",
        "print(a)"
      ]
    },
    {
      "cell_type": "code",
      "source": [
        "#Example\n",
        "num = 152.035589855 \n",
        "pi = 0\n",
        "pf = 7\n",
        "print('The approximation of',num, 'with:')\n",
        "print('Decimals', 'Result')\n",
        "for i in range(pi,pf+1): \n",
        "  print(i,'\\t',round(num,i))\n"
      ],
      "metadata": {
        "colab": {
          "base_uri": "https://localhost:8080/"
        },
        "id": "oviXLSGnyEbK",
        "outputId": "ebeadbc8-93b3-467a-e88d-0289f524d9e3"
      },
      "execution_count": 11,
      "outputs": [
        {
          "output_type": "stream",
          "name": "stdout",
          "text": [
            "The approximation of 152.035589855 with:\n",
            "Decimals Result\n",
            "0 \t 152.0\n",
            "1 \t 152.0\n",
            "2 \t 152.04\n",
            "3 \t 152.036\n",
            "4 \t 152.0356\n",
            "5 \t 152.03559\n",
            "6 \t 152.03559\n",
            "7 \t 152.0355899\n"
          ]
        }
      ]
    }
  ]
}