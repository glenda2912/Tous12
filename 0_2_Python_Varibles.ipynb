{
  "nbformat": 4,
  "nbformat_minor": 0,
  "metadata": {
    "colab": {
      "provenance": [],
      "authorship_tag": "ABX9TyMZUkpvElYvtTn2foK9KGlB",
      "include_colab_link": true
    },
    "kernelspec": {
      "name": "python3",
      "display_name": "Python 3"
    },
    "language_info": {
      "name": "python"
    }
  },
  "cells": [
    {
      "cell_type": "markdown",
      "metadata": {
        "id": "view-in-github",
        "colab_type": "text"
      },
      "source": [
        "<a href=\"https://colab.research.google.com/github/glenda2912/Tous12/blob/main/0_2_Python_Varibles.ipynb\" target=\"_parent\"><img src=\"https://colab.research.google.com/assets/colab-badge.svg\" alt=\"Open In Colab\"/></a>"
      ]
    },
    {
      "cell_type": "markdown",
      "source": [
        "  # **1. What is a variable?**\n",
        "\n",
        "  A variable is a `container`, in the sense that it stores values."
      ],
      "metadata": {
        "id": "IE-__hvVw-zd"
      }
    },
    {
      "cell_type": "markdown",
      "source": [
        "# **2. Declaration** \n"
      ],
      "metadata": {
        "id": "Pml5CwWXKpAx"
      }
    },
    {
      "cell_type": "code",
      "execution_count": null,
      "metadata": {
        "colab": {
          "base_uri": "https://localhost:8080/"
        },
        "id": "-5KqoEPHwmQY",
        "outputId": "aa915433-3d07-44f0-99cd-e3b908af0b73"
      },
      "outputs": [
        {
          "output_type": "stream",
          "name": "stdout",
          "text": [
            "2.57\n"
          ]
        }
      ],
      "source": [
        "# Example \n",
        "\n",
        "a= 2.57\n",
        "print(a)"
      ]
    },
    {
      "cell_type": "code",
      "source": [
        "#Example\n",
        "num = 3.14195687246\n",
        "pi = 0\n",
        "pf = 7\n",
        "print('The approximation of',num, 'with:')\n",
        "print('Decimals', 'Result')\n",
        "for i in range(pi,pf+1): \n",
        "  print(i,'\\t',round(num,i))\n"
      ],
      "metadata": {
        "colab": {
          "base_uri": "https://localhost:8080/"
        },
        "id": "oviXLSGnyEbK",
        "outputId": "2018df24-f12d-4436-e2a5-e41dc787efc9"
      },
      "execution_count": null,
      "outputs": [
        {
          "output_type": "stream",
          "name": "stdout",
          "text": [
            "The approximation of 3.14195687246 with:\n",
            "Decimals Result\n",
            "0 \t 3.0\n",
            "1 \t 3.1\n",
            "2 \t 3.14\n",
            "3 \t 3.142\n",
            "4 \t 3.142\n",
            "5 \t 3.14196\n",
            "6 \t 3.141957\n",
            "7 \t 3.1419569\n"
          ]
        }
      ]
    },
    {
      "cell_type": "code",
      "source": [
        "# Example \n",
        "\n",
        "x = y = z = 45\n",
        "print(x,y,z)"
      ],
      "metadata": {
        "colab": {
          "base_uri": "https://localhost:8080/"
        },
        "id": "wOx0XJfDolk8",
        "outputId": "8a217666-c8b2-4923-c5b4-8f60b89cb1b6"
      },
      "execution_count": null,
      "outputs": [
        {
          "output_type": "stream",
          "name": "stdout",
          "text": [
            "45 45 45\n"
          ]
        }
      ]
    },
    {
      "cell_type": "code",
      "source": [
        "# Example - replace values \n",
        "\n",
        "z = 17"
      ],
      "metadata": {
        "id": "aMcyPvLepCpX"
      },
      "execution_count": null,
      "outputs": []
    },
    {
      "cell_type": "markdown",
      "source": [
        "# **3. Delete an clear**\n"
      ],
      "metadata": {
        "id": "CntSxjU8pawx"
      }
    },
    {
      "cell_type": "code",
      "source": [
        "# Example - delete\n",
        "\n",
        "del x"
      ],
      "metadata": {
        "id": "AGQvO4nfpiD1"
      },
      "execution_count": null,
      "outputs": []
    },
    {
      "cell_type": "code",
      "source": [
        "# Exmple - clear\n",
        "\n",
        "%reset"
      ],
      "metadata": {
        "colab": {
          "base_uri": "https://localhost:8080/"
        },
        "id": "Doc289fZqCFP",
        "outputId": "2e038e87-58d8-4ae5-b272-3cba18976c33"
      },
      "execution_count": null,
      "outputs": [
        {
          "name": "stdout",
          "output_type": "stream",
          "text": [
            "Once deleted, variables cannot be recovered. Proceed (y/[n])? y\n"
          ]
        }
      ]
    },
    {
      "cell_type": "markdown",
      "source": [
        "# **4.Naming**"
      ],
      "metadata": {
        "id": "IPDTql3RqZQM"
      }
    },
    {
      "cell_type": "markdown",
      "source": [
        "##4.1 Conditions and restrictions"
      ],
      "metadata": {
        "id": "5slsnEN0qjCC"
      }
    },
    {
      "cell_type": "code",
      "source": [
        "# Example - always a name of variable must start with a letter\n",
        "\n",
        "age = 18 "
      ],
      "metadata": {
        "id": "xCPl42EMqoqd"
      },
      "execution_count": null,
      "outputs": []
    },
    {
      "cell_type": "markdown",
      "source": [
        "## 4.2. Best practices \n",
        "\n",
        " * Case sensitive "
      ],
      "metadata": {
        "id": "NJiWK98UrMk5"
      }
    },
    {
      "cell_type": "code",
      "source": [
        "# Example \n",
        "\n",
        "Age = 78\n",
        "AGE = 23\n",
        "\n",
        "#Sug: always use lower case."
      ],
      "metadata": {
        "id": "JUJEvozXrY_c"
      },
      "execution_count": null,
      "outputs": []
    },
    {
      "cell_type": "markdown",
      "source": [
        "* Compound names "
      ],
      "metadata": {
        "id": "6wAIHhK6ryWM"
      }
    },
    {
      "cell_type": "code",
      "source": [
        "# Examples \n",
        "\n",
        "price_jean = 150000\n"
      ],
      "metadata": {
        "id": "FjkoN8dKr1U-"
      },
      "execution_count": null,
      "outputs": []
    },
    {
      "cell_type": "markdown",
      "source": [
        "# **5.Data types**"
      ],
      "metadata": {
        "id": "_LFG5_Vrsbyj"
      }
    },
    {
      "cell_type": "markdown",
      "source": [
        "## 5.2 Float "
      ],
      "metadata": {
        "id": "_ayFHrdisor7"
      }
    },
    {
      "cell_type": "markdown",
      "source": [
        "**Parenthesis**: A trick \n"
      ],
      "metadata": {
        "id": "bAYf4bLksvid"
      }
    },
    {
      "cell_type": "code",
      "source": [
        "# Example - set up \n",
        "\n",
        "w = 0\n"
      ],
      "metadata": {
        "id": "K2_qgAFks3Ap"
      },
      "execution_count": null,
      "outputs": []
    },
    {
      "cell_type": "code",
      "source": [
        "# Example \n",
        "\n",
        "w += 3\n",
        "print(w)"
      ],
      "metadata": {
        "colab": {
          "base_uri": "https://localhost:8080/"
        },
        "id": "rPEbbjjBtCbW",
        "outputId": "d86fa2f7-1e75-447c-c9b7-3e8fada96c57"
      },
      "execution_count": null,
      "outputs": [
        {
          "output_type": "stream",
          "name": "stdout",
          "text": [
            "6\n"
          ]
        }
      ]
    },
    {
      "cell_type": "markdown",
      "source": [
        "## 5.3 Text "
      ],
      "metadata": {
        "id": "xAx4g9mAtlOB"
      }
    },
    {
      "cell_type": "code",
      "source": [
        "# Example \n",
        "\n",
        "name = \"Universidad de La Salle\"\n",
        "print(name)"
      ],
      "metadata": {
        "colab": {
          "base_uri": "https://localhost:8080/"
        },
        "id": "NdqZw8ygtoz9",
        "outputId": "852b301a-5244-4cc8-bc35-292843518b90"
      },
      "execution_count": null,
      "outputs": [
        {
          "output_type": "stream",
          "name": "stdout",
          "text": [
            "Universidad de La Salle\n"
          ]
        }
      ]
    },
    {
      "cell_type": "code",
      "source": [
        "name[-2]"
      ],
      "metadata": {
        "colab": {
          "base_uri": "https://localhost:8080/",
          "height": 36
        },
        "id": "s7DHEhQyuEcz",
        "outputId": "a2f32a78-476e-45d1-ed62-010fa9cee85f"
      },
      "execution_count": null,
      "outputs": [
        {
          "output_type": "execute_result",
          "data": {
            "text/plain": [
              "'l'"
            ],
            "application/vnd.google.colaboratory.intrinsic+json": {
              "type": "string"
            }
          },
          "metadata": {},
          "execution_count": 37
        }
      ]
    },
    {
      "cell_type": "code",
      "source": [
        "name[0:11]"
      ],
      "metadata": {
        "colab": {
          "base_uri": "https://localhost:8080/",
          "height": 36
        },
        "id": "7iy-sbV8urnw",
        "outputId": "fa62ddcc-0f51-4b6e-f212-347d991ded3f"
      },
      "execution_count": null,
      "outputs": [
        {
          "output_type": "execute_result",
          "data": {
            "text/plain": [
              "'Universidad'"
            ],
            "application/vnd.google.colaboratory.intrinsic+json": {
              "type": "string"
            }
          },
          "metadata": {},
          "execution_count": 38
        }
      ]
    },
    {
      "cell_type": "code",
      "source": [
        "name.split()[0]"
      ],
      "metadata": {
        "colab": {
          "base_uri": "https://localhost:8080/",
          "height": 36
        },
        "id": "yYx--r5avAxG",
        "outputId": "0a6fafba-9cc0-48c3-a345-d2091119dcd5"
      },
      "execution_count": null,
      "outputs": [
        {
          "output_type": "execute_result",
          "data": {
            "text/plain": [
              "'Universidad'"
            ],
            "application/vnd.google.colaboratory.intrinsic+json": {
              "type": "string"
            }
          },
          "metadata": {},
          "execution_count": 40
        }
      ]
    }
  ]
}