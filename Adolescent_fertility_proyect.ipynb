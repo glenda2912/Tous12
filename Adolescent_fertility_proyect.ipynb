{
  "nbformat": 4,
  "nbformat_minor": 0,
  "metadata": {
    "colab": {
      "provenance": [],
      "authorship_tag": "ABX9TyMrMt0po0lRvPJF3Nxr2DgL",
      "include_colab_link": true
    },
    "kernelspec": {
      "name": "python3",
      "display_name": "Python 3"
    },
    "language_info": {
      "name": "python"
    }
  },
  "cells": [
    {
      "cell_type": "markdown",
      "metadata": {
        "id": "view-in-github",
        "colab_type": "text"
      },
      "source": [
        "<a href=\"https://colab.research.google.com/github/glenda2912/Tous12/blob/main/Adolescent_fertility_proyect.ipynb\" target=\"_parent\"><img src=\"https://colab.research.google.com/assets/colab-badge.svg\" alt=\"Open In Colab\"/></a>"
      ]
    },
    {
      "cell_type": "markdown",
      "source": [
        "## Proyect"
      ],
      "metadata": {
        "id": "fGa8Yp_QQX5r"
      }
    },
    {
      "cell_type": "markdown",
      "source": [
        "###*1.Intro:*"
      ],
      "metadata": {
        "id": "iTqAjk3b_flg"
      }
    },
    {
      "cell_type": "code",
      "source": [
        "# Libraries\n",
        "\n",
        "import numpy as np\n",
        "import pandas as pd\n",
        "import plotly.express as px\n",
        "import plotly.graph_objects as go\n",
        "from plotly.subplots import make_subplots "
      ],
      "metadata": {
        "id": "HquENgs0RSmi"
      },
      "execution_count": 46,
      "outputs": []
    },
    {
      "cell_type": "markdown",
      "source": [
        "### *2. Import:* "
      ],
      "metadata": {
        "id": "KjWzMNjU_hsA"
      }
    },
    {
      "cell_type": "code",
      "source": [
        "# Save the path o the file \n",
        "\n",
        "d= '/content/Population.xlsx'\n",
        "\n",
        "#Read the file \n",
        "d = pd.read_excel(d)\n",
        "\n",
        "\n",
        "#Check\n",
        "d.info()\n"
      ],
      "metadata": {
        "id": "EKtj_W63BO8F"
      },
      "execution_count": null,
      "outputs": []
    },
    {
      "cell_type": "markdown",
      "source": [
        "### *3. Variables:* "
      ],
      "metadata": {
        "id": "FfCAGPZocjnv"
      }
    },
    {
      "cell_type": "markdown",
      "source": [
        " **3.1 Name or description:**\n",
        "\n",
        "*Adolescent fertility.*\n",
        "\n",
        "**Description:**  Adolescent fertility rate and births attendend by skilled health staff with their respective deaths in Latin America. \n",
        "\n",
        "\n",
        " **3.2 Period or dates, Frequency,  Individuals.**\n",
        "\n",
        "1.   *Period:* 2016- 2020.\n",
        "2.   *Frequency:* Annual. \n",
        "3.   *Individuals:* Countries in Latin America (42)\n",
        "\n",
        "**Selection of the countries:** \n",
        "\n",
        "The objetive is reducing adolescent fertility and addressing the multiple underlying factors are essential to improving adolescent girls' sexual and reproductive health and social and economic well-being and having a skilled health care provider at the time of childbirth is an important lifesaving intervention for both, women and newborns"
      ],
      "metadata": {
        "id": "FM7EJe5lcyj4"
      }
    },
    {
      "cell_type": "markdown",
      "source": [
        " **3.3 Sources**\n",
        "\n",
        "[World Bank](https://www.worldbank.org/en/home?cid=ECR_GA_worldbank_EN_EXTP_search&s_kwcid=AL!18468!3!610032451099!b!!g!!what%20does%20the%20world%20bank%20do&gclid=CjwKCAjwvdajBhBEEiwAeMh1U3f5kMvxHqvYjmyRCXywJRKCyf5zADOmre4qEP43vtjxmnB564ilGBoCOgsQAvD_BwE)\n",
        "\n",
        "[Adolescent fertility rate](https://www3.paho.org/hq/index.php?option=com_content&view=article&id=14497:pregnancy-dominican-republic-innov8&Itemid=0&lang=en#gsc.tab=0)\n",
        "\n",
        "\n",
        "[Births attended by skilled health personnel](https://www.who.int/data/gho/indicator-metadata-registry/imr-details/25)\n",
        "\n",
        "[Death rate](https://databank.worldbank.org/metadataglossary/world-development-indicators/series/SP.DYN.CDRT.IN#:~:text=The%20rate%20is%20usually%20expressed,year%20in%20the%20entire%20population.)"
      ],
      "metadata": {
        "id": "hXNwlH7sh1ub"
      }
    },
    {
      "cell_type": "markdown",
      "source": [
        "### 4. Goal of the DV"
      ],
      "metadata": {
        "id": "4Wj-G9y2h20X"
      }
    },
    {
      "cell_type": "markdown",
      "source": [
        "***4.1 Story:***\n",
        "\n",
        "The teen birth rate is calculated as a ratio. The numerator is the number of live births of women aged 15-19 years and the denominator is an estimate of the exposure to maternity of women aged 15-19 years.\n",
        "\n",
        "The adolescent fertility rate also provides indirect evidence of access to relevant health services, as young people, and particularly unmarried adolescent girls, often experience difficulties in accessing sexual and reproductive health services.\n",
        "\n",
        "\n",
        " ***4.2 Audience***\n",
        "\n",
        " The audience that would be interested in the **dv** would be a general audience.\n",
        "  "
      ],
      "metadata": {
        "id": "APA989NYh-7Q"
      }
    },
    {
      "cell_type": "markdown",
      "source": [
        "### General idea "
      ],
      "metadata": {
        "id": "Hk-vMSAHiEhy"
      }
    },
    {
      "cell_type": "code",
      "source": [
        "dd = d"
      ],
      "metadata": {
        "id": "UhrSpgHMEDrc"
      },
      "execution_count": 49,
      "outputs": []
    },
    {
      "cell_type": "code",
      "source": [
        "# Duplicate year variable \n",
        "dd[\"year_str\"] = dd[\"year\"].astype(str)\n",
        "\n",
        "dd.head()"
      ],
      "metadata": {
        "id": "RP7G93BgixA7"
      },
      "execution_count": null,
      "outputs": []
    },
    {
      "cell_type": "code",
      "source": [
        "#Reindex the dataframe \n",
        "dd = dd.set_index(['country','year'])\n",
        "\n",
        "dd.head()        "
      ],
      "metadata": {
        "id": "rvgnO5aWo-lp"
      },
      "execution_count": null,
      "outputs": []
    },
    {
      "cell_type": "code",
      "source": [
        "# Creating is dataframe with the tie-serie of fertility \n",
        "ts_Hom = d.pivot(index   = 'year',\n",
        "                 columns = 'country',\n",
        "                 values  = 'fertility')\n",
        "print(ts_Hom)"
      ],
      "metadata": {
        "id": "z1ypqmxQotaO"
      },
      "execution_count": null,
      "outputs": []
    },
    {
      "cell_type": "code",
      "source": [
        "# Filter by country name and save it\n",
        "dominican = dd.filter(like='Dominican',axis=0)\n",
        "print(dominican)"
      ],
      "metadata": {
        "id": "5PP2PpQBRSM2"
      },
      "execution_count": null,
      "outputs": []
    },
    {
      "cell_type": "markdown",
      "source": [
        "### Dominican Republic as one of the countries with the most pregnant girls, why are there so many deaths, could it be that it has to do with the health system?"
      ],
      "metadata": {
        "id": "a94rq3lyUl-c"
      }
    },
    {
      "cell_type": "code",
      "source": [
        "# Create a figure with secondary axis\n",
        "fig = make_subplots(specs = [[{\"secondary_y\": True}]])\n",
        "\n",
        "# Add traces\n",
        "fig.add_trace(\n",
        "    go.Scatter(x = dominican['year_str'], y = dominican['fertility'], name = 'Fertility.'),\n",
        "    secondary_y = False, \n",
        ")\n",
        "\n",
        "fig.add_trace(\n",
        "    go.Scatter(x = dominican['year_str'], y = dominican['births'], name = 'Births'),\n",
        "    secondary_y = True, \n",
        ")\n",
        "\n",
        "fig.update_layout(title = 'Relationship between Fertility and Births in Dominican Republic',\n",
        "                  title_font_size = 15,\n",
        "                  title_x = 0.25)\n",
        "\n",
        "\n",
        "fig.show()"
      ],
      "metadata": {
        "colab": {
          "base_uri": "https://localhost:8080/",
          "height": 542
        },
        "id": "7T2aPYiViWgw",
        "outputId": "85fd9b9d-036c-4e24-ca86-61ac087d759e"
      },
      "execution_count": 70,
      "outputs": [
        {
          "output_type": "display_data",
          "data": {
            "text/html": [
              "<html>\n",
              "<head><meta charset=\"utf-8\" /></head>\n",
              "<body>\n",
              "    <div>            <script src=\"https://cdnjs.cloudflare.com/ajax/libs/mathjax/2.7.5/MathJax.js?config=TeX-AMS-MML_SVG\"></script><script type=\"text/javascript\">if (window.MathJax && window.MathJax.Hub && window.MathJax.Hub.Config) {window.MathJax.Hub.Config({SVG: {font: \"STIX-Web\"}});}</script>                <script type=\"text/javascript\">window.PlotlyConfig = {MathJaxConfig: 'local'};</script>\n",
              "        <script src=\"https://cdn.plot.ly/plotly-2.18.2.min.js\"></script>                <div id=\"e549ea65-36ce-49ba-9a28-d68618b7c979\" class=\"plotly-graph-div\" style=\"height:525px; width:100%;\"></div>            <script type=\"text/javascript\">                                    window.PLOTLYENV=window.PLOTLYENV || {};                                    if (document.getElementById(\"e549ea65-36ce-49ba-9a28-d68618b7c979\")) {                    Plotly.newPlot(                        \"e549ea65-36ce-49ba-9a28-d68618b7c979\",                        [{\"name\":\"Fertility.\",\"x\":[\"2016\",\"2017\",\"2018\",\"2019\",\"2020\"],\"y\":[94.9256,94.26,93.0342,91.8084,90.5826],\"type\":\"scatter\",\"xaxis\":\"x\",\"yaxis\":\"y\"},{\"name\":\"Births\",\"x\":[\"2016\",\"2017\",\"2018\",\"2019\",\"2020\"],\"y\":[99.8,99.8,99.7,99.2,\"..\"],\"type\":\"scatter\",\"xaxis\":\"x\",\"yaxis\":\"y2\"}],                        {\"template\":{\"data\":{\"histogram2dcontour\":[{\"type\":\"histogram2dcontour\",\"colorbar\":{\"outlinewidth\":0,\"ticks\":\"\"},\"colorscale\":[[0.0,\"#0d0887\"],[0.1111111111111111,\"#46039f\"],[0.2222222222222222,\"#7201a8\"],[0.3333333333333333,\"#9c179e\"],[0.4444444444444444,\"#bd3786\"],[0.5555555555555556,\"#d8576b\"],[0.6666666666666666,\"#ed7953\"],[0.7777777777777778,\"#fb9f3a\"],[0.8888888888888888,\"#fdca26\"],[1.0,\"#f0f921\"]]}],\"choropleth\":[{\"type\":\"choropleth\",\"colorbar\":{\"outlinewidth\":0,\"ticks\":\"\"}}],\"histogram2d\":[{\"type\":\"histogram2d\",\"colorbar\":{\"outlinewidth\":0,\"ticks\":\"\"},\"colorscale\":[[0.0,\"#0d0887\"],[0.1111111111111111,\"#46039f\"],[0.2222222222222222,\"#7201a8\"],[0.3333333333333333,\"#9c179e\"],[0.4444444444444444,\"#bd3786\"],[0.5555555555555556,\"#d8576b\"],[0.6666666666666666,\"#ed7953\"],[0.7777777777777778,\"#fb9f3a\"],[0.8888888888888888,\"#fdca26\"],[1.0,\"#f0f921\"]]}],\"heatmap\":[{\"type\":\"heatmap\",\"colorbar\":{\"outlinewidth\":0,\"ticks\":\"\"},\"colorscale\":[[0.0,\"#0d0887\"],[0.1111111111111111,\"#46039f\"],[0.2222222222222222,\"#7201a8\"],[0.3333333333333333,\"#9c179e\"],[0.4444444444444444,\"#bd3786\"],[0.5555555555555556,\"#d8576b\"],[0.6666666666666666,\"#ed7953\"],[0.7777777777777778,\"#fb9f3a\"],[0.8888888888888888,\"#fdca26\"],[1.0,\"#f0f921\"]]}],\"heatmapgl\":[{\"type\":\"heatmapgl\",\"colorbar\":{\"outlinewidth\":0,\"ticks\":\"\"},\"colorscale\":[[0.0,\"#0d0887\"],[0.1111111111111111,\"#46039f\"],[0.2222222222222222,\"#7201a8\"],[0.3333333333333333,\"#9c179e\"],[0.4444444444444444,\"#bd3786\"],[0.5555555555555556,\"#d8576b\"],[0.6666666666666666,\"#ed7953\"],[0.7777777777777778,\"#fb9f3a\"],[0.8888888888888888,\"#fdca26\"],[1.0,\"#f0f921\"]]}],\"contourcarpet\":[{\"type\":\"contourcarpet\",\"colorbar\":{\"outlinewidth\":0,\"ticks\":\"\"}}],\"contour\":[{\"type\":\"contour\",\"colorbar\":{\"outlinewidth\":0,\"ticks\":\"\"},\"colorscale\":[[0.0,\"#0d0887\"],[0.1111111111111111,\"#46039f\"],[0.2222222222222222,\"#7201a8\"],[0.3333333333333333,\"#9c179e\"],[0.4444444444444444,\"#bd3786\"],[0.5555555555555556,\"#d8576b\"],[0.6666666666666666,\"#ed7953\"],[0.7777777777777778,\"#fb9f3a\"],[0.8888888888888888,\"#fdca26\"],[1.0,\"#f0f921\"]]}],\"surface\":[{\"type\":\"surface\",\"colorbar\":{\"outlinewidth\":0,\"ticks\":\"\"},\"colorscale\":[[0.0,\"#0d0887\"],[0.1111111111111111,\"#46039f\"],[0.2222222222222222,\"#7201a8\"],[0.3333333333333333,\"#9c179e\"],[0.4444444444444444,\"#bd3786\"],[0.5555555555555556,\"#d8576b\"],[0.6666666666666666,\"#ed7953\"],[0.7777777777777778,\"#fb9f3a\"],[0.8888888888888888,\"#fdca26\"],[1.0,\"#f0f921\"]]}],\"mesh3d\":[{\"type\":\"mesh3d\",\"colorbar\":{\"outlinewidth\":0,\"ticks\":\"\"}}],\"scatter\":[{\"fillpattern\":{\"fillmode\":\"overlay\",\"size\":10,\"solidity\":0.2},\"type\":\"scatter\"}],\"parcoords\":[{\"type\":\"parcoords\",\"line\":{\"colorbar\":{\"outlinewidth\":0,\"ticks\":\"\"}}}],\"scatterpolargl\":[{\"type\":\"scatterpolargl\",\"marker\":{\"colorbar\":{\"outlinewidth\":0,\"ticks\":\"\"}}}],\"bar\":[{\"error_x\":{\"color\":\"#2a3f5f\"},\"error_y\":{\"color\":\"#2a3f5f\"},\"marker\":{\"line\":{\"color\":\"#E5ECF6\",\"width\":0.5},\"pattern\":{\"fillmode\":\"overlay\",\"size\":10,\"solidity\":0.2}},\"type\":\"bar\"}],\"scattergeo\":[{\"type\":\"scattergeo\",\"marker\":{\"colorbar\":{\"outlinewidth\":0,\"ticks\":\"\"}}}],\"scatterpolar\":[{\"type\":\"scatterpolar\",\"marker\":{\"colorbar\":{\"outlinewidth\":0,\"ticks\":\"\"}}}],\"histogram\":[{\"marker\":{\"pattern\":{\"fillmode\":\"overlay\",\"size\":10,\"solidity\":0.2}},\"type\":\"histogram\"}],\"scattergl\":[{\"type\":\"scattergl\",\"marker\":{\"colorbar\":{\"outlinewidth\":0,\"ticks\":\"\"}}}],\"scatter3d\":[{\"type\":\"scatter3d\",\"line\":{\"colorbar\":{\"outlinewidth\":0,\"ticks\":\"\"}},\"marker\":{\"colorbar\":{\"outlinewidth\":0,\"ticks\":\"\"}}}],\"scattermapbox\":[{\"type\":\"scattermapbox\",\"marker\":{\"colorbar\":{\"outlinewidth\":0,\"ticks\":\"\"}}}],\"scatterternary\":[{\"type\":\"scatterternary\",\"marker\":{\"colorbar\":{\"outlinewidth\":0,\"ticks\":\"\"}}}],\"scattercarpet\":[{\"type\":\"scattercarpet\",\"marker\":{\"colorbar\":{\"outlinewidth\":0,\"ticks\":\"\"}}}],\"carpet\":[{\"aaxis\":{\"endlinecolor\":\"#2a3f5f\",\"gridcolor\":\"white\",\"linecolor\":\"white\",\"minorgridcolor\":\"white\",\"startlinecolor\":\"#2a3f5f\"},\"baxis\":{\"endlinecolor\":\"#2a3f5f\",\"gridcolor\":\"white\",\"linecolor\":\"white\",\"minorgridcolor\":\"white\",\"startlinecolor\":\"#2a3f5f\"},\"type\":\"carpet\"}],\"table\":[{\"cells\":{\"fill\":{\"color\":\"#EBF0F8\"},\"line\":{\"color\":\"white\"}},\"header\":{\"fill\":{\"color\":\"#C8D4E3\"},\"line\":{\"color\":\"white\"}},\"type\":\"table\"}],\"barpolar\":[{\"marker\":{\"line\":{\"color\":\"#E5ECF6\",\"width\":0.5},\"pattern\":{\"fillmode\":\"overlay\",\"size\":10,\"solidity\":0.2}},\"type\":\"barpolar\"}],\"pie\":[{\"automargin\":true,\"type\":\"pie\"}]},\"layout\":{\"autotypenumbers\":\"strict\",\"colorway\":[\"#636efa\",\"#EF553B\",\"#00cc96\",\"#ab63fa\",\"#FFA15A\",\"#19d3f3\",\"#FF6692\",\"#B6E880\",\"#FF97FF\",\"#FECB52\"],\"font\":{\"color\":\"#2a3f5f\"},\"hovermode\":\"closest\",\"hoverlabel\":{\"align\":\"left\"},\"paper_bgcolor\":\"white\",\"plot_bgcolor\":\"#E5ECF6\",\"polar\":{\"bgcolor\":\"#E5ECF6\",\"angularaxis\":{\"gridcolor\":\"white\",\"linecolor\":\"white\",\"ticks\":\"\"},\"radialaxis\":{\"gridcolor\":\"white\",\"linecolor\":\"white\",\"ticks\":\"\"}},\"ternary\":{\"bgcolor\":\"#E5ECF6\",\"aaxis\":{\"gridcolor\":\"white\",\"linecolor\":\"white\",\"ticks\":\"\"},\"baxis\":{\"gridcolor\":\"white\",\"linecolor\":\"white\",\"ticks\":\"\"},\"caxis\":{\"gridcolor\":\"white\",\"linecolor\":\"white\",\"ticks\":\"\"}},\"coloraxis\":{\"colorbar\":{\"outlinewidth\":0,\"ticks\":\"\"}},\"colorscale\":{\"sequential\":[[0.0,\"#0d0887\"],[0.1111111111111111,\"#46039f\"],[0.2222222222222222,\"#7201a8\"],[0.3333333333333333,\"#9c179e\"],[0.4444444444444444,\"#bd3786\"],[0.5555555555555556,\"#d8576b\"],[0.6666666666666666,\"#ed7953\"],[0.7777777777777778,\"#fb9f3a\"],[0.8888888888888888,\"#fdca26\"],[1.0,\"#f0f921\"]],\"sequentialminus\":[[0.0,\"#0d0887\"],[0.1111111111111111,\"#46039f\"],[0.2222222222222222,\"#7201a8\"],[0.3333333333333333,\"#9c179e\"],[0.4444444444444444,\"#bd3786\"],[0.5555555555555556,\"#d8576b\"],[0.6666666666666666,\"#ed7953\"],[0.7777777777777778,\"#fb9f3a\"],[0.8888888888888888,\"#fdca26\"],[1.0,\"#f0f921\"]],\"diverging\":[[0,\"#8e0152\"],[0.1,\"#c51b7d\"],[0.2,\"#de77ae\"],[0.3,\"#f1b6da\"],[0.4,\"#fde0ef\"],[0.5,\"#f7f7f7\"],[0.6,\"#e6f5d0\"],[0.7,\"#b8e186\"],[0.8,\"#7fbc41\"],[0.9,\"#4d9221\"],[1,\"#276419\"]]},\"xaxis\":{\"gridcolor\":\"white\",\"linecolor\":\"white\",\"ticks\":\"\",\"title\":{\"standoff\":15},\"zerolinecolor\":\"white\",\"automargin\":true,\"zerolinewidth\":2},\"yaxis\":{\"gridcolor\":\"white\",\"linecolor\":\"white\",\"ticks\":\"\",\"title\":{\"standoff\":15},\"zerolinecolor\":\"white\",\"automargin\":true,\"zerolinewidth\":2},\"scene\":{\"xaxis\":{\"backgroundcolor\":\"#E5ECF6\",\"gridcolor\":\"white\",\"linecolor\":\"white\",\"showbackground\":true,\"ticks\":\"\",\"zerolinecolor\":\"white\",\"gridwidth\":2},\"yaxis\":{\"backgroundcolor\":\"#E5ECF6\",\"gridcolor\":\"white\",\"linecolor\":\"white\",\"showbackground\":true,\"ticks\":\"\",\"zerolinecolor\":\"white\",\"gridwidth\":2},\"zaxis\":{\"backgroundcolor\":\"#E5ECF6\",\"gridcolor\":\"white\",\"linecolor\":\"white\",\"showbackground\":true,\"ticks\":\"\",\"zerolinecolor\":\"white\",\"gridwidth\":2}},\"shapedefaults\":{\"line\":{\"color\":\"#2a3f5f\"}},\"annotationdefaults\":{\"arrowcolor\":\"#2a3f5f\",\"arrowhead\":0,\"arrowwidth\":1},\"geo\":{\"bgcolor\":\"white\",\"landcolor\":\"#E5ECF6\",\"subunitcolor\":\"white\",\"showland\":true,\"showlakes\":true,\"lakecolor\":\"white\"},\"title\":{\"x\":0.05},\"mapbox\":{\"style\":\"light\"}}},\"xaxis\":{\"anchor\":\"y\",\"domain\":[0.0,0.94]},\"yaxis\":{\"anchor\":\"x\",\"domain\":[0.0,1.0]},\"yaxis2\":{\"anchor\":\"x\",\"overlaying\":\"y\",\"side\":\"right\"},\"title\":{\"text\":\"Relationship between Fertility and Births in Dominican Republic\",\"font\":{\"size\":15},\"x\":0.25}},                        {\"responsive\": true}                    ).then(function(){\n",
              "                            \n",
              "var gd = document.getElementById('e549ea65-36ce-49ba-9a28-d68618b7c979');\n",
              "var x = new MutationObserver(function (mutations, observer) {{\n",
              "        var display = window.getComputedStyle(gd).display;\n",
              "        if (!display || display === 'none') {{\n",
              "            console.log([gd, 'removed!']);\n",
              "            Plotly.purge(gd);\n",
              "            observer.disconnect();\n",
              "        }}\n",
              "}});\n",
              "\n",
              "// Listen for the removal of the full notebook cells\n",
              "var notebookContainer = gd.closest('#notebook-container');\n",
              "if (notebookContainer) {{\n",
              "    x.observe(notebookContainer, {childList: true});\n",
              "}}\n",
              "\n",
              "// Listen for the clearing of the current output cell\n",
              "var outputEl = gd.closest('.output');\n",
              "if (outputEl) {{\n",
              "    x.observe(outputEl, {childList: true});\n",
              "}}\n",
              "\n",
              "                        })                };                            </script>        </div>\n",
              "</body>\n",
              "</html>"
            ]
          },
          "metadata": {}
        }
      ]
    },
    {
      "cell_type": "markdown",
      "source": [
        "* The relationship between the fertility of girls between the ages of 15 and 19 and births is very close, so it confirms that girls in this country are the ones who get pregnant.\n"
      ],
      "metadata": {
        "id": "kL6wyLSLkGI3"
      }
    },
    {
      "cell_type": "code",
      "source": [
        "fig = px.scatter_matrix(dd, dimensions=['fertility','death','births'], color = 'year_str',\n",
        "                        hover_name = dd.index.get_level_values(0))\n",
        "\n",
        "fig.update_layout(title = 'Relationship between fertility, death and births in Latin America',\n",
        "                  title_font_size = 15,\n",
        "                  title_x = 0.25)\n",
        "\n",
        "fig.show()"
      ],
      "metadata": {
        "colab": {
          "base_uri": "https://localhost:8080/",
          "height": 542
        },
        "id": "LaDm4_YMRetu",
        "outputId": "e2444808-1b2f-462e-845c-8521f8ab4bfc"
      },
      "execution_count": 61,
      "outputs": [
        {
          "output_type": "display_data",
          "data": {
            "text/html": [
              "<html>\n",
              "<head><meta charset=\"utf-8\" /></head>\n",
              "<body>\n",
              "    <div>            <script src=\"https://cdnjs.cloudflare.com/ajax/libs/mathjax/2.7.5/MathJax.js?config=TeX-AMS-MML_SVG\"></script><script type=\"text/javascript\">if (window.MathJax && window.MathJax.Hub && window.MathJax.Hub.Config) {window.MathJax.Hub.Config({SVG: {font: \"STIX-Web\"}});}</script>                <script type=\"text/javascript\">window.PlotlyConfig = {MathJaxConfig: 'local'};</script>\n",
              "        <script src=\"https://cdn.plot.ly/plotly-2.18.2.min.js\"></script>                <div id=\"90e5b997-e688-4820-8ec3-e0f9867205c0\" class=\"plotly-graph-div\" style=\"height:525px; width:100%;\"></div>            <script type=\"text/javascript\">                                    window.PLOTLYENV=window.PLOTLYENV || {};                                    if (document.getElementById(\"90e5b997-e688-4820-8ec3-e0f9867205c0\")) {                    Plotly.newPlot(                        \"90e5b997-e688-4820-8ec3-e0f9867205c0\",                        [{\"dimensions\":[{\"axis\":{\"matches\":true},\"label\":\"fertility\",\"values\":[43.6256,62.939,23.8416,30.5602,35.3818,69.3254,66.4978,60.0994,\"..\",\"..\",43.602,67.9844,54.7214,52.0242,29.3708,\"..\",94.9256,79.9576,70.2702,30.4132,72.4582,76.118,52.854,74.3484,54.3564,61.486,86.7808,82.8346,70.9886,57.9692,32.3972,\"..\",\"..\",41.2616,\"..\",50.1176,62.422,31.033,\"..\",59.1122,85.8336,32.259]},{\"axis\":{\"matches\":true},\"label\":\"death\",\"values\":[5.662,7.947,8.336,6.717,8.792,4.695,7.104,6.538,5.718,3.1,6.107,5.213,4.986,9.348,9.3,9.6,5.964,4.86,6.925,7.82,5.038,7.475,8.161,4.183,6.971,6.305,4.633,4.904,5.398,6.318,8.86,4.1,\"..\",7.848,4.345,8.385,6.941,7.134,7.083,9.628,6.574,7.5]},{\"axis\":{\"matches\":true},\"label\":\"births\",\"values\":[\"..\",98.4,\"..\",99,99.1,96.8,89.8,98.6,\"..\",\"..\",99.7,95.9,98.8,99.9,\"..\",100,99.8,94.0590955121575,99.9,99.3,69.8,94.3,\"..\",79,99.7,98,94.1,94.6,95.5,92.4,\"..\",\"..\",\"..\",\"..\",\"..\",98.6,\"..\",100,\"..\",100,99.3,\"..\"]}],\"hovertemplate\":\"<b>%{hovertext}</b><br><br>year_str=2016<br>%{xaxis.title.text}=%{x}<br>%{yaxis.title.text}=%{y}<extra></extra>\",\"hovertext\":[\"Antigua and Barbuda\",\"Argentina\",\"Aruba\",\"Bahamas, The\",\"Barbados\",\"Belize\",\"Bolivia\",\"Brazil\",\"British Virgin Islands\",\"Cayman Islands\",\"Chile\",\"Colombia\",\"Costa Rica\",\"Cuba\",\"Curacao\",\"Dominica\",\"Dominican Republic\",\"Ecuador\",\"El Salvador\",\"Grenada\",\"Guatemala\",\"Guyana\",\"Haiti\",\"Honduras\",\"Jamaica\",\"Mexico\",\"Nicaragua\",\"Panama\",\"Paraguay\",\"Peru\",\"Puerto Rico\",\"Sint Maarten (Dutch part)\",\"St. Kitts and Nevis\",\"St. Lucia\",\"St. Martin (French part)\",\"St. Vincent and the Grenadines\",\"Suriname\",\"Trinidad and Tobago\",\"Turks and Caicos Islands\",\"Uruguay\",\"Venezuela, RB\",\"Virgin Islands (U.S.)\"],\"legendgroup\":\"2016\",\"marker\":{\"color\":\"#636efa\",\"symbol\":\"circle\"},\"name\":\"2016\",\"showlegend\":true,\"type\":\"splom\"},{\"dimensions\":[{\"axis\":{\"matches\":true},\"label\":\"fertility\",\"values\":[42.782,62.782,22.674,30.001,33.55,68.487,64.9,59.111,\"..\",\"..\",41.052,66.651,53.46,51.592,27.942,\"..\",94.26,79.261,69.459,29.177,70.93,74.382,51.676,72.912,52.757,60.365,84.99,81.828,70.504,56.882,29.098,\"..\",\"..\",40.536,\"..\",49.02,61.655,30.09,\"..\",58.727,85.337,28.887]},{\"axis\":{\"matches\":true},\"label\":\"death\",\"values\":[5.746,7.692,8.414,6.84,8.85,4.712,7.107,6.493,6.143,3.4,6.139,5.249,5.18,9.622,8.9,\"..\",6.032,4.872,6.857,7.9,5.015,7.472,8.014,4.221,7.145,6.615,4.619,4.947,5.445,6.173,9.222,4.2,\"..\",7.968,4.747,8.592,6.672,7.386,7.328,9.724,6.735,7.7]},{\"axis\":{\"matches\":true},\"label\":\"births\",\"values\":[100,93.9,\"..\",\"..\",\"..\",95.3,99.5,98.7,\"..\",\"..\",99.8,99.3,98.7,99.9,\"..\",100,99.8,95.5819723607312,99.9,100,69.6,96.7,41.6,74,99.7,96.6,94.1,94.2,97.3,93.6,\"..\",\"..\",\"..\",100,\"..\",\"..\",\"..\",100,\"..\",100,99.1,\"..\"]}],\"hovertemplate\":\"<b>%{hovertext}</b><br><br>year_str=2017<br>%{xaxis.title.text}=%{x}<br>%{yaxis.title.text}=%{y}<extra></extra>\",\"hovertext\":[\"Antigua and Barbuda\",\"Argentina\",\"Aruba\",\"Bahamas, The\",\"Barbados\",\"Belize\",\"Bolivia\",\"Brazil\",\"British Virgin Islands\",\"Cayman Islands\",\"Chile\",\"Colombia\",\"Costa Rica\",\"Cuba\",\"Curacao\",\"Dominica\",\"Dominican Republic\",\"Ecuador\",\"El Salvador\",\"Grenada\",\"Guatemala\",\"Guyana\",\"Haiti\",\"Honduras\",\"Jamaica\",\"Mexico\",\"Nicaragua\",\"Panama\",\"Paraguay\",\"Peru\",\"Puerto Rico\",\"Sint Maarten (Dutch part)\",\"St. Kitts and Nevis\",\"St. Lucia\",\"St. Martin (French part)\",\"St. Vincent and the Grenadines\",\"Suriname\",\"Trinidad and Tobago\",\"Turks and Caicos Islands\",\"Uruguay\",\"Venezuela, RB\",\"Virgin Islands (U.S.)\"],\"legendgroup\":\"2017\",\"marker\":{\"color\":\"#EF553B\",\"symbol\":\"circle\"},\"name\":\"2017\",\"showlegend\":true,\"type\":\"splom\"},{\"dimensions\":[{\"axis\":{\"matches\":true},\"label\":\"fertility\",\"values\":[41.831,62.5654,21.1736,29.2254,31.1302,68.049,63.9042,57.8858,\"..\",\"..\",40.1384,65.482,52.5186,51.5156,27.6142,\"..\",93.0342,78.7626,68.6136,28.1938,69.756,72.8682,50.9536,71.8464,51.3186,59.4542,83.3048,81.0386,70.1824,55.9518,28.3068,\"..\",\"..\",39.8792,\"..\",48.1898,60.6396,29.3338,\"..\",58.2386,84.9792,27.6482]},{\"axis\":{\"matches\":true},\"label\":\"death\",\"values\":[5.787,7.68,8.597,6.935,8.927,4.74,7.124,6.516,5.988,3.3,6.327,5.311,5.276,9.815,8.8,\"..\",6.06,4.911,6.938,7.956,4.995,7.499,7.998,4.257,7.318,6.856,4.605,5.013,5.569,6.103,9.063,\"..\",\"..\",7.976,4.176,8.906,6.753,7.783,7.651,9.863,6.864,7.9]},{\"axis\":{\"matches\":true},\"label\":\"births\",\"values\":[\"..\",99.5,\"..\",99,99,94.8,71.5,98.8,\"..\",\"..\",99.8,98.4,98.5,99.9,\"..\",100,99.7,95.9225117354922,99.9,\"..\",\"..\",95.1,\"..\",\"..\",99.7,\"..\",\"..\",92.9,97.7,93.7,\"..\",\"..\",100,100,\"..\",\"..\",98.4,\"..\",\"..\",100,98.7,\"..\"]}],\"hovertemplate\":\"<b>%{hovertext}</b><br><br>year_str=2018<br>%{xaxis.title.text}=%{x}<br>%{yaxis.title.text}=%{y}<extra></extra>\",\"hovertext\":[\"Antigua and Barbuda\",\"Argentina\",\"Aruba\",\"Bahamas, The\",\"Barbados\",\"Belize\",\"Bolivia\",\"Brazil\",\"British Virgin Islands\",\"Cayman Islands\",\"Chile\",\"Colombia\",\"Costa Rica\",\"Cuba\",\"Curacao\",\"Dominica\",\"Dominican Republic\",\"Ecuador\",\"El Salvador\",\"Grenada\",\"Guatemala\",\"Guyana\",\"Haiti\",\"Honduras\",\"Jamaica\",\"Mexico\",\"Nicaragua\",\"Panama\",\"Paraguay\",\"Peru\",\"Puerto Rico\",\"Sint Maarten (Dutch part)\",\"St. Kitts and Nevis\",\"St. Lucia\",\"St. Martin (French part)\",\"St. Vincent and the Grenadines\",\"Suriname\",\"Trinidad and Tobago\",\"Turks and Caicos Islands\",\"Uruguay\",\"Venezuela, RB\",\"Virgin Islands (U.S.)\"],\"legendgroup\":\"2018\",\"marker\":{\"color\":\"#00cc96\",\"symbol\":\"circle\"},\"name\":\"2018\",\"showlegend\":true,\"type\":\"splom\"},{\"dimensions\":[{\"axis\":{\"matches\":true},\"label\":\"fertility\",\"values\":[40.88,62.3488,19.6732,28.4498,28.7104,67.611,62.9084,56.6606,\"..\",\"..\",39.2248,64.313,51.5772,51.4392,27.2864,\"..\",91.8084,78.2642,67.7682,27.2106,68.582,71.3544,50.2312,70.7808,49.8802,58.5434,81.6196,80.2492,69.8608,55.0216,27.5156,\"..\",\"..\",39.2224,\"..\",47.3596,59.6242,28.5776,\"..\",57.7502,84.6214,26.4094]},{\"axis\":{\"matches\":true},\"label\":\"death\",\"values\":[5.865,7.6,8.778,7.943,8.91,4.727,7.127,6.572,6.156,3.8,6.346,5.411,5.468,9.861,8.8,\"..\",6.006,4.913,7.451,8.008,4.892,7.444,7.953,4.315,7.477,6.931,4.626,5.12,5.636,6.006,9.194,\"..\",\"..\",8.068,4.661,10.1,7.06,7.701,8.458,10.057,7.017,8.2]},{\"axis\":{\"matches\":true},\"label\":\"births\",\"values\":[\"..\",99.6,\"..\",99,98,95.3,81.1,99.1,\"..\",\"..\",99.8,98.8,99,100,\"..\",100,99.2,97.154916093958,\"..\",\"..\",\"..\",95,\"..\",94.1,\"..\",\"..\",\"..\",95,\"..\",94.4,\"..\",\"..\",100,100,\"..\",\"..\",\"..\",\"..\",\"..\",100,\"..\",\"..\"]}],\"hovertemplate\":\"<b>%{hovertext}</b><br><br>year_str=2019<br>%{xaxis.title.text}=%{x}<br>%{yaxis.title.text}=%{y}<extra></extra>\",\"hovertext\":[\"Antigua and Barbuda\",\"Argentina\",\"Aruba\",\"Bahamas, The\",\"Barbados\",\"Belize\",\"Bolivia\",\"Brazil\",\"British Virgin Islands\",\"Cayman Islands\",\"Chile\",\"Colombia\",\"Costa Rica\",\"Cuba\",\"Curacao\",\"Dominica\",\"Dominican Republic\",\"Ecuador\",\"El Salvador\",\"Grenada\",\"Guatemala\",\"Guyana\",\"Haiti\",\"Honduras\",\"Jamaica\",\"Mexico\",\"Nicaragua\",\"Panama\",\"Paraguay\",\"Peru\",\"Puerto Rico\",\"Sint Maarten (Dutch part)\",\"St. Kitts and Nevis\",\"St. Lucia\",\"St. Martin (French part)\",\"St. Vincent and the Grenadines\",\"Suriname\",\"Trinidad and Tobago\",\"Turks and Caicos Islands\",\"Uruguay\",\"Venezuela, RB\",\"Virgin Islands (U.S.)\"],\"legendgroup\":\"2019\",\"marker\":{\"color\":\"#ab63fa\",\"symbol\":\"circle\"},\"name\":\"2019\",\"showlegend\":true,\"type\":\"splom\"},{\"dimensions\":[{\"axis\":{\"matches\":true},\"label\":\"fertility\",\"values\":[39.929,62.1322,18.1728,27.6742,26.2906,67.173,61.9126,55.4354,\"..\",\"..\",38.3112,63.144,50.6358,51.3628,26.9586,\"..\",90.5826,77.7658,66.9228,26.2274,67.408,69.8406,49.5088,69.7152,48.4418,57.6326,79.9344,79.4598,69.5392,54.0914,26.7244,\"..\",\"..\",38.5656,\"..\",46.5294,58.6088,27.8214,\"..\",57.2618,84.2636,25.1706]},{\"axis\":{\"matches\":true},\"label\":\"death\",\"values\":[5.961,8.509,9.69,8.076,8.973,5.244,9.3,7.42,6.38,3.3,7.221,6.606,5.627,10.23,9,\"..\",6.46,7.534,8.442,8.061,5.337,8.026,8.176,4.945,7.583,9.33,5.703,5.747,5.916,7.327,9.6,\"..\",\"..\",8.205,4.788,11.038,7.036,7.9,8.823,9.432,7.575,8.4]},{\"axis\":{\"matches\":true},\"label\":\"births\",\"values\":[99,98.8,\"..\",\"..\",98.4,94.6,\"..\",\"..\",\"..\",\"..\",\"..\",\"..\",\"..\",\"..\",\"..\",100,\"..\",\"..\",\"..\",\"..\",\"..\",97.6,\"..\",\"..\",\"..\",\"..\",\"..\",\"..\",\"..\",95.7,\"..\",\"..\",100,\"..\",\"..\",\"..\",\"..\",\"..\",100,100,\"..\",\"..\"]}],\"hovertemplate\":\"<b>%{hovertext}</b><br><br>year_str=2020<br>%{xaxis.title.text}=%{x}<br>%{yaxis.title.text}=%{y}<extra></extra>\",\"hovertext\":[\"Antigua and Barbuda\",\"Argentina\",\"Aruba\",\"Bahamas, The\",\"Barbados\",\"Belize\",\"Bolivia\",\"Brazil\",\"British Virgin Islands\",\"Cayman Islands\",\"Chile\",\"Colombia\",\"Costa Rica\",\"Cuba\",\"Curacao\",\"Dominica\",\"Dominican Republic\",\"Ecuador\",\"El Salvador\",\"Grenada\",\"Guatemala\",\"Guyana\",\"Haiti\",\"Honduras\",\"Jamaica\",\"Mexico\",\"Nicaragua\",\"Panama\",\"Paraguay\",\"Peru\",\"Puerto Rico\",\"Sint Maarten (Dutch part)\",\"St. Kitts and Nevis\",\"St. Lucia\",\"St. Martin (French part)\",\"St. Vincent and the Grenadines\",\"Suriname\",\"Trinidad and Tobago\",\"Turks and Caicos Islands\",\"Uruguay\",\"Venezuela, RB\",\"Virgin Islands (U.S.)\"],\"legendgroup\":\"2020\",\"marker\":{\"color\":\"#FFA15A\",\"symbol\":\"circle\"},\"name\":\"2020\",\"showlegend\":true,\"type\":\"splom\"}],                        {\"template\":{\"data\":{\"histogram2dcontour\":[{\"type\":\"histogram2dcontour\",\"colorbar\":{\"outlinewidth\":0,\"ticks\":\"\"},\"colorscale\":[[0.0,\"#0d0887\"],[0.1111111111111111,\"#46039f\"],[0.2222222222222222,\"#7201a8\"],[0.3333333333333333,\"#9c179e\"],[0.4444444444444444,\"#bd3786\"],[0.5555555555555556,\"#d8576b\"],[0.6666666666666666,\"#ed7953\"],[0.7777777777777778,\"#fb9f3a\"],[0.8888888888888888,\"#fdca26\"],[1.0,\"#f0f921\"]]}],\"choropleth\":[{\"type\":\"choropleth\",\"colorbar\":{\"outlinewidth\":0,\"ticks\":\"\"}}],\"histogram2d\":[{\"type\":\"histogram2d\",\"colorbar\":{\"outlinewidth\":0,\"ticks\":\"\"},\"colorscale\":[[0.0,\"#0d0887\"],[0.1111111111111111,\"#46039f\"],[0.2222222222222222,\"#7201a8\"],[0.3333333333333333,\"#9c179e\"],[0.4444444444444444,\"#bd3786\"],[0.5555555555555556,\"#d8576b\"],[0.6666666666666666,\"#ed7953\"],[0.7777777777777778,\"#fb9f3a\"],[0.8888888888888888,\"#fdca26\"],[1.0,\"#f0f921\"]]}],\"heatmap\":[{\"type\":\"heatmap\",\"colorbar\":{\"outlinewidth\":0,\"ticks\":\"\"},\"colorscale\":[[0.0,\"#0d0887\"],[0.1111111111111111,\"#46039f\"],[0.2222222222222222,\"#7201a8\"],[0.3333333333333333,\"#9c179e\"],[0.4444444444444444,\"#bd3786\"],[0.5555555555555556,\"#d8576b\"],[0.6666666666666666,\"#ed7953\"],[0.7777777777777778,\"#fb9f3a\"],[0.8888888888888888,\"#fdca26\"],[1.0,\"#f0f921\"]]}],\"heatmapgl\":[{\"type\":\"heatmapgl\",\"colorbar\":{\"outlinewidth\":0,\"ticks\":\"\"},\"colorscale\":[[0.0,\"#0d0887\"],[0.1111111111111111,\"#46039f\"],[0.2222222222222222,\"#7201a8\"],[0.3333333333333333,\"#9c179e\"],[0.4444444444444444,\"#bd3786\"],[0.5555555555555556,\"#d8576b\"],[0.6666666666666666,\"#ed7953\"],[0.7777777777777778,\"#fb9f3a\"],[0.8888888888888888,\"#fdca26\"],[1.0,\"#f0f921\"]]}],\"contourcarpet\":[{\"type\":\"contourcarpet\",\"colorbar\":{\"outlinewidth\":0,\"ticks\":\"\"}}],\"contour\":[{\"type\":\"contour\",\"colorbar\":{\"outlinewidth\":0,\"ticks\":\"\"},\"colorscale\":[[0.0,\"#0d0887\"],[0.1111111111111111,\"#46039f\"],[0.2222222222222222,\"#7201a8\"],[0.3333333333333333,\"#9c179e\"],[0.4444444444444444,\"#bd3786\"],[0.5555555555555556,\"#d8576b\"],[0.6666666666666666,\"#ed7953\"],[0.7777777777777778,\"#fb9f3a\"],[0.8888888888888888,\"#fdca26\"],[1.0,\"#f0f921\"]]}],\"surface\":[{\"type\":\"surface\",\"colorbar\":{\"outlinewidth\":0,\"ticks\":\"\"},\"colorscale\":[[0.0,\"#0d0887\"],[0.1111111111111111,\"#46039f\"],[0.2222222222222222,\"#7201a8\"],[0.3333333333333333,\"#9c179e\"],[0.4444444444444444,\"#bd3786\"],[0.5555555555555556,\"#d8576b\"],[0.6666666666666666,\"#ed7953\"],[0.7777777777777778,\"#fb9f3a\"],[0.8888888888888888,\"#fdca26\"],[1.0,\"#f0f921\"]]}],\"mesh3d\":[{\"type\":\"mesh3d\",\"colorbar\":{\"outlinewidth\":0,\"ticks\":\"\"}}],\"scatter\":[{\"fillpattern\":{\"fillmode\":\"overlay\",\"size\":10,\"solidity\":0.2},\"type\":\"scatter\"}],\"parcoords\":[{\"type\":\"parcoords\",\"line\":{\"colorbar\":{\"outlinewidth\":0,\"ticks\":\"\"}}}],\"scatterpolargl\":[{\"type\":\"scatterpolargl\",\"marker\":{\"colorbar\":{\"outlinewidth\":0,\"ticks\":\"\"}}}],\"bar\":[{\"error_x\":{\"color\":\"#2a3f5f\"},\"error_y\":{\"color\":\"#2a3f5f\"},\"marker\":{\"line\":{\"color\":\"#E5ECF6\",\"width\":0.5},\"pattern\":{\"fillmode\":\"overlay\",\"size\":10,\"solidity\":0.2}},\"type\":\"bar\"}],\"scattergeo\":[{\"type\":\"scattergeo\",\"marker\":{\"colorbar\":{\"outlinewidth\":0,\"ticks\":\"\"}}}],\"scatterpolar\":[{\"type\":\"scatterpolar\",\"marker\":{\"colorbar\":{\"outlinewidth\":0,\"ticks\":\"\"}}}],\"histogram\":[{\"marker\":{\"pattern\":{\"fillmode\":\"overlay\",\"size\":10,\"solidity\":0.2}},\"type\":\"histogram\"}],\"scattergl\":[{\"type\":\"scattergl\",\"marker\":{\"colorbar\":{\"outlinewidth\":0,\"ticks\":\"\"}}}],\"scatter3d\":[{\"type\":\"scatter3d\",\"line\":{\"colorbar\":{\"outlinewidth\":0,\"ticks\":\"\"}},\"marker\":{\"colorbar\":{\"outlinewidth\":0,\"ticks\":\"\"}}}],\"scattermapbox\":[{\"type\":\"scattermapbox\",\"marker\":{\"colorbar\":{\"outlinewidth\":0,\"ticks\":\"\"}}}],\"scatterternary\":[{\"type\":\"scatterternary\",\"marker\":{\"colorbar\":{\"outlinewidth\":0,\"ticks\":\"\"}}}],\"scattercarpet\":[{\"type\":\"scattercarpet\",\"marker\":{\"colorbar\":{\"outlinewidth\":0,\"ticks\":\"\"}}}],\"carpet\":[{\"aaxis\":{\"endlinecolor\":\"#2a3f5f\",\"gridcolor\":\"white\",\"linecolor\":\"white\",\"minorgridcolor\":\"white\",\"startlinecolor\":\"#2a3f5f\"},\"baxis\":{\"endlinecolor\":\"#2a3f5f\",\"gridcolor\":\"white\",\"linecolor\":\"white\",\"minorgridcolor\":\"white\",\"startlinecolor\":\"#2a3f5f\"},\"type\":\"carpet\"}],\"table\":[{\"cells\":{\"fill\":{\"color\":\"#EBF0F8\"},\"line\":{\"color\":\"white\"}},\"header\":{\"fill\":{\"color\":\"#C8D4E3\"},\"line\":{\"color\":\"white\"}},\"type\":\"table\"}],\"barpolar\":[{\"marker\":{\"line\":{\"color\":\"#E5ECF6\",\"width\":0.5},\"pattern\":{\"fillmode\":\"overlay\",\"size\":10,\"solidity\":0.2}},\"type\":\"barpolar\"}],\"pie\":[{\"automargin\":true,\"type\":\"pie\"}]},\"layout\":{\"autotypenumbers\":\"strict\",\"colorway\":[\"#636efa\",\"#EF553B\",\"#00cc96\",\"#ab63fa\",\"#FFA15A\",\"#19d3f3\",\"#FF6692\",\"#B6E880\",\"#FF97FF\",\"#FECB52\"],\"font\":{\"color\":\"#2a3f5f\"},\"hovermode\":\"closest\",\"hoverlabel\":{\"align\":\"left\"},\"paper_bgcolor\":\"white\",\"plot_bgcolor\":\"#E5ECF6\",\"polar\":{\"bgcolor\":\"#E5ECF6\",\"angularaxis\":{\"gridcolor\":\"white\",\"linecolor\":\"white\",\"ticks\":\"\"},\"radialaxis\":{\"gridcolor\":\"white\",\"linecolor\":\"white\",\"ticks\":\"\"}},\"ternary\":{\"bgcolor\":\"#E5ECF6\",\"aaxis\":{\"gridcolor\":\"white\",\"linecolor\":\"white\",\"ticks\":\"\"},\"baxis\":{\"gridcolor\":\"white\",\"linecolor\":\"white\",\"ticks\":\"\"},\"caxis\":{\"gridcolor\":\"white\",\"linecolor\":\"white\",\"ticks\":\"\"}},\"coloraxis\":{\"colorbar\":{\"outlinewidth\":0,\"ticks\":\"\"}},\"colorscale\":{\"sequential\":[[0.0,\"#0d0887\"],[0.1111111111111111,\"#46039f\"],[0.2222222222222222,\"#7201a8\"],[0.3333333333333333,\"#9c179e\"],[0.4444444444444444,\"#bd3786\"],[0.5555555555555556,\"#d8576b\"],[0.6666666666666666,\"#ed7953\"],[0.7777777777777778,\"#fb9f3a\"],[0.8888888888888888,\"#fdca26\"],[1.0,\"#f0f921\"]],\"sequentialminus\":[[0.0,\"#0d0887\"],[0.1111111111111111,\"#46039f\"],[0.2222222222222222,\"#7201a8\"],[0.3333333333333333,\"#9c179e\"],[0.4444444444444444,\"#bd3786\"],[0.5555555555555556,\"#d8576b\"],[0.6666666666666666,\"#ed7953\"],[0.7777777777777778,\"#fb9f3a\"],[0.8888888888888888,\"#fdca26\"],[1.0,\"#f0f921\"]],\"diverging\":[[0,\"#8e0152\"],[0.1,\"#c51b7d\"],[0.2,\"#de77ae\"],[0.3,\"#f1b6da\"],[0.4,\"#fde0ef\"],[0.5,\"#f7f7f7\"],[0.6,\"#e6f5d0\"],[0.7,\"#b8e186\"],[0.8,\"#7fbc41\"],[0.9,\"#4d9221\"],[1,\"#276419\"]]},\"xaxis\":{\"gridcolor\":\"white\",\"linecolor\":\"white\",\"ticks\":\"\",\"title\":{\"standoff\":15},\"zerolinecolor\":\"white\",\"automargin\":true,\"zerolinewidth\":2},\"yaxis\":{\"gridcolor\":\"white\",\"linecolor\":\"white\",\"ticks\":\"\",\"title\":{\"standoff\":15},\"zerolinecolor\":\"white\",\"automargin\":true,\"zerolinewidth\":2},\"scene\":{\"xaxis\":{\"backgroundcolor\":\"#E5ECF6\",\"gridcolor\":\"white\",\"linecolor\":\"white\",\"showbackground\":true,\"ticks\":\"\",\"zerolinecolor\":\"white\",\"gridwidth\":2},\"yaxis\":{\"backgroundcolor\":\"#E5ECF6\",\"gridcolor\":\"white\",\"linecolor\":\"white\",\"showbackground\":true,\"ticks\":\"\",\"zerolinecolor\":\"white\",\"gridwidth\":2},\"zaxis\":{\"backgroundcolor\":\"#E5ECF6\",\"gridcolor\":\"white\",\"linecolor\":\"white\",\"showbackground\":true,\"ticks\":\"\",\"zerolinecolor\":\"white\",\"gridwidth\":2}},\"shapedefaults\":{\"line\":{\"color\":\"#2a3f5f\"}},\"annotationdefaults\":{\"arrowcolor\":\"#2a3f5f\",\"arrowhead\":0,\"arrowwidth\":1},\"geo\":{\"bgcolor\":\"white\",\"landcolor\":\"#E5ECF6\",\"subunitcolor\":\"white\",\"showland\":true,\"showlakes\":true,\"lakecolor\":\"white\"},\"title\":{\"x\":0.05},\"mapbox\":{\"style\":\"light\"}}},\"legend\":{\"title\":{\"text\":\"year_str\"},\"tracegroupgap\":0},\"margin\":{\"t\":60},\"dragmode\":\"select\",\"title\":{\"text\":\"Relationship between fertility, death and births in Latin America\",\"font\":{\"size\":15},\"x\":0.25}},                        {\"responsive\": true}                    ).then(function(){\n",
              "                            \n",
              "var gd = document.getElementById('90e5b997-e688-4820-8ec3-e0f9867205c0');\n",
              "var x = new MutationObserver(function (mutations, observer) {{\n",
              "        var display = window.getComputedStyle(gd).display;\n",
              "        if (!display || display === 'none') {{\n",
              "            console.log([gd, 'removed!']);\n",
              "            Plotly.purge(gd);\n",
              "            observer.disconnect();\n",
              "        }}\n",
              "}});\n",
              "\n",
              "// Listen for the removal of the full notebook cells\n",
              "var notebookContainer = gd.closest('#notebook-container');\n",
              "if (notebookContainer) {{\n",
              "    x.observe(notebookContainer, {childList: true});\n",
              "}}\n",
              "\n",
              "// Listen for the clearing of the current output cell\n",
              "var outputEl = gd.closest('.output');\n",
              "if (outputEl) {{\n",
              "    x.observe(outputEl, {childList: true});\n",
              "}}\n",
              "\n",
              "                        })                };                            </script>        </div>\n",
              "</body>\n",
              "</html>"
            ]
          },
          "metadata": {}
        }
      ]
    },
    {
      "cell_type": "markdown",
      "source": [
        "* In this graph we were able to show that the Dominican Republic is the country most correlated with fertility, births and deaths.\n",
        "\n",
        "  Why? \n",
        "\n",
        "* For too many Dominicans, choosing is not an option: 23% are not free to make decisions about their own bodies in relation to sexual relations or the use of contraceptives, to which 46% do not have access. \n",
        "* Sterilization was the most used method in the Dominican Republic\n",
        "But not always by an informed choice: 25% of them were sterilized without knowing that it was an irreversible intervention."
      ],
      "metadata": {
        "id": "56dGwwzhmAS9"
      }
    },
    {
      "cell_type": "code",
      "source": [
        "fig = px.box(dd, x = 'year_str', y = 'death',\n",
        "             points = 'all', hover_name = dd.index.get_level_values(0))\n",
        "fig.update_layout(title = 'Death rate in Latin America',\n",
        "                  title_font_size = 30,\n",
        "                  title_x = 0.25)\n",
        "fig.show()"
      ],
      "metadata": {
        "colab": {
          "base_uri": "https://localhost:8080/",
          "height": 542
        },
        "id": "ah751KRnRlRh",
        "outputId": "73e7cc3a-a8b4-432c-b512-39c52a06aab7"
      },
      "execution_count": 71,
      "outputs": [
        {
          "output_type": "display_data",
          "data": {
            "text/html": [
              "<html>\n",
              "<head><meta charset=\"utf-8\" /></head>\n",
              "<body>\n",
              "    <div>            <script src=\"https://cdnjs.cloudflare.com/ajax/libs/mathjax/2.7.5/MathJax.js?config=TeX-AMS-MML_SVG\"></script><script type=\"text/javascript\">if (window.MathJax && window.MathJax.Hub && window.MathJax.Hub.Config) {window.MathJax.Hub.Config({SVG: {font: \"STIX-Web\"}});}</script>                <script type=\"text/javascript\">window.PlotlyConfig = {MathJaxConfig: 'local'};</script>\n",
              "        <script src=\"https://cdn.plot.ly/plotly-2.18.2.min.js\"></script>                <div id=\"33f2bc6f-f7bc-4739-b870-0ef496d41acd\" class=\"plotly-graph-div\" style=\"height:525px; width:100%;\"></div>            <script type=\"text/javascript\">                                    window.PLOTLYENV=window.PLOTLYENV || {};                                    if (document.getElementById(\"33f2bc6f-f7bc-4739-b870-0ef496d41acd\")) {                    Plotly.newPlot(                        \"33f2bc6f-f7bc-4739-b870-0ef496d41acd\",                        [{\"alignmentgroup\":\"True\",\"boxpoints\":\"all\",\"hovertemplate\":\"<b>%{hovertext}</b><br><br>year_str=%{x}<br>death=%{y}<extra></extra>\",\"hovertext\":[\"Antigua and Barbuda\",\"Antigua and Barbuda\",\"Antigua and Barbuda\",\"Antigua and Barbuda\",\"Antigua and Barbuda\",\"Argentina\",\"Argentina\",\"Argentina\",\"Argentina\",\"Argentina\",\"Aruba\",\"Aruba\",\"Aruba\",\"Aruba\",\"Aruba\",\"Bahamas, The\",\"Bahamas, The\",\"Bahamas, The\",\"Bahamas, The\",\"Bahamas, The\",\"Barbados\",\"Barbados\",\"Barbados\",\"Barbados\",\"Barbados\",\"Belize\",\"Belize\",\"Belize\",\"Belize\",\"Belize\",\"Bolivia\",\"Bolivia\",\"Bolivia\",\"Bolivia\",\"Bolivia\",\"Brazil\",\"Brazil\",\"Brazil\",\"Brazil\",\"Brazil\",\"British Virgin Islands\",\"British Virgin Islands\",\"British Virgin Islands\",\"British Virgin Islands\",\"British Virgin Islands\",\"Cayman Islands\",\"Cayman Islands\",\"Cayman Islands\",\"Cayman Islands\",\"Cayman Islands\",\"Chile\",\"Chile\",\"Chile\",\"Chile\",\"Chile\",\"Colombia\",\"Colombia\",\"Colombia\",\"Colombia\",\"Colombia\",\"Costa Rica\",\"Costa Rica\",\"Costa Rica\",\"Costa Rica\",\"Costa Rica\",\"Cuba\",\"Cuba\",\"Cuba\",\"Cuba\",\"Cuba\",\"Curacao\",\"Curacao\",\"Curacao\",\"Curacao\",\"Curacao\",\"Dominica\",\"Dominica\",\"Dominica\",\"Dominica\",\"Dominica\",\"Dominican Republic\",\"Dominican Republic\",\"Dominican Republic\",\"Dominican Republic\",\"Dominican Republic\",\"Ecuador\",\"Ecuador\",\"Ecuador\",\"Ecuador\",\"Ecuador\",\"El Salvador\",\"El Salvador\",\"El Salvador\",\"El Salvador\",\"El Salvador\",\"Grenada\",\"Grenada\",\"Grenada\",\"Grenada\",\"Grenada\",\"Guatemala\",\"Guatemala\",\"Guatemala\",\"Guatemala\",\"Guatemala\",\"Guyana\",\"Guyana\",\"Guyana\",\"Guyana\",\"Guyana\",\"Haiti\",\"Haiti\",\"Haiti\",\"Haiti\",\"Haiti\",\"Honduras\",\"Honduras\",\"Honduras\",\"Honduras\",\"Honduras\",\"Jamaica\",\"Jamaica\",\"Jamaica\",\"Jamaica\",\"Jamaica\",\"Mexico\",\"Mexico\",\"Mexico\",\"Mexico\",\"Mexico\",\"Nicaragua\",\"Nicaragua\",\"Nicaragua\",\"Nicaragua\",\"Nicaragua\",\"Panama\",\"Panama\",\"Panama\",\"Panama\",\"Panama\",\"Paraguay\",\"Paraguay\",\"Paraguay\",\"Paraguay\",\"Paraguay\",\"Peru\",\"Peru\",\"Peru\",\"Peru\",\"Peru\",\"Puerto Rico\",\"Puerto Rico\",\"Puerto Rico\",\"Puerto Rico\",\"Puerto Rico\",\"Sint Maarten (Dutch part)\",\"Sint Maarten (Dutch part)\",\"Sint Maarten (Dutch part)\",\"Sint Maarten (Dutch part)\",\"Sint Maarten (Dutch part)\",\"St. Kitts and Nevis\",\"St. Kitts and Nevis\",\"St. Kitts and Nevis\",\"St. Kitts and Nevis\",\"St. Kitts and Nevis\",\"St. Lucia\",\"St. Lucia\",\"St. Lucia\",\"St. Lucia\",\"St. Lucia\",\"St. Martin (French part)\",\"St. Martin (French part)\",\"St. Martin (French part)\",\"St. Martin (French part)\",\"St. Martin (French part)\",\"St. Vincent and the Grenadines\",\"St. Vincent and the Grenadines\",\"St. Vincent and the Grenadines\",\"St. Vincent and the Grenadines\",\"St. Vincent and the Grenadines\",\"Suriname\",\"Suriname\",\"Suriname\",\"Suriname\",\"Suriname\",\"Trinidad and Tobago\",\"Trinidad and Tobago\",\"Trinidad and Tobago\",\"Trinidad and Tobago\",\"Trinidad and Tobago\",\"Turks and Caicos Islands\",\"Turks and Caicos Islands\",\"Turks and Caicos Islands\",\"Turks and Caicos Islands\",\"Turks and Caicos Islands\",\"Uruguay\",\"Uruguay\",\"Uruguay\",\"Uruguay\",\"Uruguay\",\"Venezuela, RB\",\"Venezuela, RB\",\"Venezuela, RB\",\"Venezuela, RB\",\"Venezuela, RB\",\"Virgin Islands (U.S.)\",\"Virgin Islands (U.S.)\",\"Virgin Islands (U.S.)\",\"Virgin Islands (U.S.)\",\"Virgin Islands (U.S.)\"],\"legendgroup\":\"\",\"marker\":{\"color\":\"#636efa\"},\"name\":\"\",\"notched\":false,\"offsetgroup\":\"\",\"orientation\":\"v\",\"showlegend\":false,\"x\":[\"2016\",\"2017\",\"2018\",\"2019\",\"2020\",\"2016\",\"2017\",\"2018\",\"2019\",\"2020\",\"2016\",\"2017\",\"2018\",\"2019\",\"2020\",\"2016\",\"2017\",\"2018\",\"2019\",\"2020\",\"2016\",\"2017\",\"2018\",\"2019\",\"2020\",\"2016\",\"2017\",\"2018\",\"2019\",\"2020\",\"2016\",\"2017\",\"2018\",\"2019\",\"2020\",\"2016\",\"2017\",\"2018\",\"2019\",\"2020\",\"2016\",\"2017\",\"2018\",\"2019\",\"2020\",\"2016\",\"2017\",\"2018\",\"2019\",\"2020\",\"2016\",\"2017\",\"2018\",\"2019\",\"2020\",\"2016\",\"2017\",\"2018\",\"2019\",\"2020\",\"2016\",\"2017\",\"2018\",\"2019\",\"2020\",\"2016\",\"2017\",\"2018\",\"2019\",\"2020\",\"2016\",\"2017\",\"2018\",\"2019\",\"2020\",\"2016\",\"2017\",\"2018\",\"2019\",\"2020\",\"2016\",\"2017\",\"2018\",\"2019\",\"2020\",\"2016\",\"2017\",\"2018\",\"2019\",\"2020\",\"2016\",\"2017\",\"2018\",\"2019\",\"2020\",\"2016\",\"2017\",\"2018\",\"2019\",\"2020\",\"2016\",\"2017\",\"2018\",\"2019\",\"2020\",\"2016\",\"2017\",\"2018\",\"2019\",\"2020\",\"2016\",\"2017\",\"2018\",\"2019\",\"2020\",\"2016\",\"2017\",\"2018\",\"2019\",\"2020\",\"2016\",\"2017\",\"2018\",\"2019\",\"2020\",\"2016\",\"2017\",\"2018\",\"2019\",\"2020\",\"2016\",\"2017\",\"2018\",\"2019\",\"2020\",\"2016\",\"2017\",\"2018\",\"2019\",\"2020\",\"2016\",\"2017\",\"2018\",\"2019\",\"2020\",\"2016\",\"2017\",\"2018\",\"2019\",\"2020\",\"2016\",\"2017\",\"2018\",\"2019\",\"2020\",\"2016\",\"2017\",\"2018\",\"2019\",\"2020\",\"2016\",\"2017\",\"2018\",\"2019\",\"2020\",\"2016\",\"2017\",\"2018\",\"2019\",\"2020\",\"2016\",\"2017\",\"2018\",\"2019\",\"2020\",\"2016\",\"2017\",\"2018\",\"2019\",\"2020\",\"2016\",\"2017\",\"2018\",\"2019\",\"2020\",\"2016\",\"2017\",\"2018\",\"2019\",\"2020\",\"2016\",\"2017\",\"2018\",\"2019\",\"2020\",\"2016\",\"2017\",\"2018\",\"2019\",\"2020\",\"2016\",\"2017\",\"2018\",\"2019\",\"2020\",\"2016\",\"2017\",\"2018\",\"2019\",\"2020\"],\"x0\":\" \",\"xaxis\":\"x\",\"y\":[5.662,5.746,5.787,5.865,5.961,7.947,7.692,7.68,7.6,8.509,8.336,8.414,8.597,8.778,9.69,6.717,6.84,6.935,7.943,8.076,8.792,8.85,8.927,8.91,8.973,4.695,4.712,4.74,4.727,5.244,7.104,7.107,7.124,7.127,9.3,6.538,6.493,6.516,6.572,7.42,5.718,6.143,5.988,6.156,6.38,3.1,3.4,3.3,3.8,3.3,6.107,6.139,6.327,6.346,7.221,5.213,5.249,5.311,5.411,6.606,4.986,5.18,5.276,5.468,5.627,9.348,9.622,9.815,9.861,10.23,9.3,8.9,8.8,8.8,9,9.6,\"..\",\"..\",\"..\",\"..\",5.964,6.032,6.06,6.006,6.46,4.86,4.872,4.911,4.913,7.534,6.925,6.857,6.938,7.451,8.442,7.82,7.9,7.956,8.008,8.061,5.038,5.015,4.995,4.892,5.337,7.475,7.472,7.499,7.444,8.026,8.161,8.014,7.998,7.953,8.176,4.183,4.221,4.257,4.315,4.945,6.971,7.145,7.318,7.477,7.583,6.305,6.615,6.856,6.931,9.33,4.633,4.619,4.605,4.626,5.703,4.904,4.947,5.013,5.12,5.747,5.398,5.445,5.569,5.636,5.916,6.318,6.173,6.103,6.006,7.327,8.86,9.222,9.063,9.194,9.6,4.1,4.2,\"..\",\"..\",\"..\",\"..\",\"..\",\"..\",\"..\",\"..\",7.848,7.968,7.976,8.068,8.205,4.345,4.747,4.176,4.661,4.788,8.385,8.592,8.906,10.1,11.038,6.941,6.672,6.753,7.06,7.036,7.134,7.386,7.783,7.701,7.9,7.083,7.328,7.651,8.458,8.823,9.628,9.724,9.863,10.057,9.432,6.574,6.735,6.864,7.017,7.575,7.5,7.7,7.9,8.2,8.4],\"y0\":\" \",\"yaxis\":\"y\",\"type\":\"box\"}],                        {\"template\":{\"data\":{\"histogram2dcontour\":[{\"type\":\"histogram2dcontour\",\"colorbar\":{\"outlinewidth\":0,\"ticks\":\"\"},\"colorscale\":[[0.0,\"#0d0887\"],[0.1111111111111111,\"#46039f\"],[0.2222222222222222,\"#7201a8\"],[0.3333333333333333,\"#9c179e\"],[0.4444444444444444,\"#bd3786\"],[0.5555555555555556,\"#d8576b\"],[0.6666666666666666,\"#ed7953\"],[0.7777777777777778,\"#fb9f3a\"],[0.8888888888888888,\"#fdca26\"],[1.0,\"#f0f921\"]]}],\"choropleth\":[{\"type\":\"choropleth\",\"colorbar\":{\"outlinewidth\":0,\"ticks\":\"\"}}],\"histogram2d\":[{\"type\":\"histogram2d\",\"colorbar\":{\"outlinewidth\":0,\"ticks\":\"\"},\"colorscale\":[[0.0,\"#0d0887\"],[0.1111111111111111,\"#46039f\"],[0.2222222222222222,\"#7201a8\"],[0.3333333333333333,\"#9c179e\"],[0.4444444444444444,\"#bd3786\"],[0.5555555555555556,\"#d8576b\"],[0.6666666666666666,\"#ed7953\"],[0.7777777777777778,\"#fb9f3a\"],[0.8888888888888888,\"#fdca26\"],[1.0,\"#f0f921\"]]}],\"heatmap\":[{\"type\":\"heatmap\",\"colorbar\":{\"outlinewidth\":0,\"ticks\":\"\"},\"colorscale\":[[0.0,\"#0d0887\"],[0.1111111111111111,\"#46039f\"],[0.2222222222222222,\"#7201a8\"],[0.3333333333333333,\"#9c179e\"],[0.4444444444444444,\"#bd3786\"],[0.5555555555555556,\"#d8576b\"],[0.6666666666666666,\"#ed7953\"],[0.7777777777777778,\"#fb9f3a\"],[0.8888888888888888,\"#fdca26\"],[1.0,\"#f0f921\"]]}],\"heatmapgl\":[{\"type\":\"heatmapgl\",\"colorbar\":{\"outlinewidth\":0,\"ticks\":\"\"},\"colorscale\":[[0.0,\"#0d0887\"],[0.1111111111111111,\"#46039f\"],[0.2222222222222222,\"#7201a8\"],[0.3333333333333333,\"#9c179e\"],[0.4444444444444444,\"#bd3786\"],[0.5555555555555556,\"#d8576b\"],[0.6666666666666666,\"#ed7953\"],[0.7777777777777778,\"#fb9f3a\"],[0.8888888888888888,\"#fdca26\"],[1.0,\"#f0f921\"]]}],\"contourcarpet\":[{\"type\":\"contourcarpet\",\"colorbar\":{\"outlinewidth\":0,\"ticks\":\"\"}}],\"contour\":[{\"type\":\"contour\",\"colorbar\":{\"outlinewidth\":0,\"ticks\":\"\"},\"colorscale\":[[0.0,\"#0d0887\"],[0.1111111111111111,\"#46039f\"],[0.2222222222222222,\"#7201a8\"],[0.3333333333333333,\"#9c179e\"],[0.4444444444444444,\"#bd3786\"],[0.5555555555555556,\"#d8576b\"],[0.6666666666666666,\"#ed7953\"],[0.7777777777777778,\"#fb9f3a\"],[0.8888888888888888,\"#fdca26\"],[1.0,\"#f0f921\"]]}],\"surface\":[{\"type\":\"surface\",\"colorbar\":{\"outlinewidth\":0,\"ticks\":\"\"},\"colorscale\":[[0.0,\"#0d0887\"],[0.1111111111111111,\"#46039f\"],[0.2222222222222222,\"#7201a8\"],[0.3333333333333333,\"#9c179e\"],[0.4444444444444444,\"#bd3786\"],[0.5555555555555556,\"#d8576b\"],[0.6666666666666666,\"#ed7953\"],[0.7777777777777778,\"#fb9f3a\"],[0.8888888888888888,\"#fdca26\"],[1.0,\"#f0f921\"]]}],\"mesh3d\":[{\"type\":\"mesh3d\",\"colorbar\":{\"outlinewidth\":0,\"ticks\":\"\"}}],\"scatter\":[{\"fillpattern\":{\"fillmode\":\"overlay\",\"size\":10,\"solidity\":0.2},\"type\":\"scatter\"}],\"parcoords\":[{\"type\":\"parcoords\",\"line\":{\"colorbar\":{\"outlinewidth\":0,\"ticks\":\"\"}}}],\"scatterpolargl\":[{\"type\":\"scatterpolargl\",\"marker\":{\"colorbar\":{\"outlinewidth\":0,\"ticks\":\"\"}}}],\"bar\":[{\"error_x\":{\"color\":\"#2a3f5f\"},\"error_y\":{\"color\":\"#2a3f5f\"},\"marker\":{\"line\":{\"color\":\"#E5ECF6\",\"width\":0.5},\"pattern\":{\"fillmode\":\"overlay\",\"size\":10,\"solidity\":0.2}},\"type\":\"bar\"}],\"scattergeo\":[{\"type\":\"scattergeo\",\"marker\":{\"colorbar\":{\"outlinewidth\":0,\"ticks\":\"\"}}}],\"scatterpolar\":[{\"type\":\"scatterpolar\",\"marker\":{\"colorbar\":{\"outlinewidth\":0,\"ticks\":\"\"}}}],\"histogram\":[{\"marker\":{\"pattern\":{\"fillmode\":\"overlay\",\"size\":10,\"solidity\":0.2}},\"type\":\"histogram\"}],\"scattergl\":[{\"type\":\"scattergl\",\"marker\":{\"colorbar\":{\"outlinewidth\":0,\"ticks\":\"\"}}}],\"scatter3d\":[{\"type\":\"scatter3d\",\"line\":{\"colorbar\":{\"outlinewidth\":0,\"ticks\":\"\"}},\"marker\":{\"colorbar\":{\"outlinewidth\":0,\"ticks\":\"\"}}}],\"scattermapbox\":[{\"type\":\"scattermapbox\",\"marker\":{\"colorbar\":{\"outlinewidth\":0,\"ticks\":\"\"}}}],\"scatterternary\":[{\"type\":\"scatterternary\",\"marker\":{\"colorbar\":{\"outlinewidth\":0,\"ticks\":\"\"}}}],\"scattercarpet\":[{\"type\":\"scattercarpet\",\"marker\":{\"colorbar\":{\"outlinewidth\":0,\"ticks\":\"\"}}}],\"carpet\":[{\"aaxis\":{\"endlinecolor\":\"#2a3f5f\",\"gridcolor\":\"white\",\"linecolor\":\"white\",\"minorgridcolor\":\"white\",\"startlinecolor\":\"#2a3f5f\"},\"baxis\":{\"endlinecolor\":\"#2a3f5f\",\"gridcolor\":\"white\",\"linecolor\":\"white\",\"minorgridcolor\":\"white\",\"startlinecolor\":\"#2a3f5f\"},\"type\":\"carpet\"}],\"table\":[{\"cells\":{\"fill\":{\"color\":\"#EBF0F8\"},\"line\":{\"color\":\"white\"}},\"header\":{\"fill\":{\"color\":\"#C8D4E3\"},\"line\":{\"color\":\"white\"}},\"type\":\"table\"}],\"barpolar\":[{\"marker\":{\"line\":{\"color\":\"#E5ECF6\",\"width\":0.5},\"pattern\":{\"fillmode\":\"overlay\",\"size\":10,\"solidity\":0.2}},\"type\":\"barpolar\"}],\"pie\":[{\"automargin\":true,\"type\":\"pie\"}]},\"layout\":{\"autotypenumbers\":\"strict\",\"colorway\":[\"#636efa\",\"#EF553B\",\"#00cc96\",\"#ab63fa\",\"#FFA15A\",\"#19d3f3\",\"#FF6692\",\"#B6E880\",\"#FF97FF\",\"#FECB52\"],\"font\":{\"color\":\"#2a3f5f\"},\"hovermode\":\"closest\",\"hoverlabel\":{\"align\":\"left\"},\"paper_bgcolor\":\"white\",\"plot_bgcolor\":\"#E5ECF6\",\"polar\":{\"bgcolor\":\"#E5ECF6\",\"angularaxis\":{\"gridcolor\":\"white\",\"linecolor\":\"white\",\"ticks\":\"\"},\"radialaxis\":{\"gridcolor\":\"white\",\"linecolor\":\"white\",\"ticks\":\"\"}},\"ternary\":{\"bgcolor\":\"#E5ECF6\",\"aaxis\":{\"gridcolor\":\"white\",\"linecolor\":\"white\",\"ticks\":\"\"},\"baxis\":{\"gridcolor\":\"white\",\"linecolor\":\"white\",\"ticks\":\"\"},\"caxis\":{\"gridcolor\":\"white\",\"linecolor\":\"white\",\"ticks\":\"\"}},\"coloraxis\":{\"colorbar\":{\"outlinewidth\":0,\"ticks\":\"\"}},\"colorscale\":{\"sequential\":[[0.0,\"#0d0887\"],[0.1111111111111111,\"#46039f\"],[0.2222222222222222,\"#7201a8\"],[0.3333333333333333,\"#9c179e\"],[0.4444444444444444,\"#bd3786\"],[0.5555555555555556,\"#d8576b\"],[0.6666666666666666,\"#ed7953\"],[0.7777777777777778,\"#fb9f3a\"],[0.8888888888888888,\"#fdca26\"],[1.0,\"#f0f921\"]],\"sequentialminus\":[[0.0,\"#0d0887\"],[0.1111111111111111,\"#46039f\"],[0.2222222222222222,\"#7201a8\"],[0.3333333333333333,\"#9c179e\"],[0.4444444444444444,\"#bd3786\"],[0.5555555555555556,\"#d8576b\"],[0.6666666666666666,\"#ed7953\"],[0.7777777777777778,\"#fb9f3a\"],[0.8888888888888888,\"#fdca26\"],[1.0,\"#f0f921\"]],\"diverging\":[[0,\"#8e0152\"],[0.1,\"#c51b7d\"],[0.2,\"#de77ae\"],[0.3,\"#f1b6da\"],[0.4,\"#fde0ef\"],[0.5,\"#f7f7f7\"],[0.6,\"#e6f5d0\"],[0.7,\"#b8e186\"],[0.8,\"#7fbc41\"],[0.9,\"#4d9221\"],[1,\"#276419\"]]},\"xaxis\":{\"gridcolor\":\"white\",\"linecolor\":\"white\",\"ticks\":\"\",\"title\":{\"standoff\":15},\"zerolinecolor\":\"white\",\"automargin\":true,\"zerolinewidth\":2},\"yaxis\":{\"gridcolor\":\"white\",\"linecolor\":\"white\",\"ticks\":\"\",\"title\":{\"standoff\":15},\"zerolinecolor\":\"white\",\"automargin\":true,\"zerolinewidth\":2},\"scene\":{\"xaxis\":{\"backgroundcolor\":\"#E5ECF6\",\"gridcolor\":\"white\",\"linecolor\":\"white\",\"showbackground\":true,\"ticks\":\"\",\"zerolinecolor\":\"white\",\"gridwidth\":2},\"yaxis\":{\"backgroundcolor\":\"#E5ECF6\",\"gridcolor\":\"white\",\"linecolor\":\"white\",\"showbackground\":true,\"ticks\":\"\",\"zerolinecolor\":\"white\",\"gridwidth\":2},\"zaxis\":{\"backgroundcolor\":\"#E5ECF6\",\"gridcolor\":\"white\",\"linecolor\":\"white\",\"showbackground\":true,\"ticks\":\"\",\"zerolinecolor\":\"white\",\"gridwidth\":2}},\"shapedefaults\":{\"line\":{\"color\":\"#2a3f5f\"}},\"annotationdefaults\":{\"arrowcolor\":\"#2a3f5f\",\"arrowhead\":0,\"arrowwidth\":1},\"geo\":{\"bgcolor\":\"white\",\"landcolor\":\"#E5ECF6\",\"subunitcolor\":\"white\",\"showland\":true,\"showlakes\":true,\"lakecolor\":\"white\"},\"title\":{\"x\":0.05},\"mapbox\":{\"style\":\"light\"}}},\"xaxis\":{\"anchor\":\"y\",\"domain\":[0.0,1.0],\"title\":{\"text\":\"year_str\"}},\"yaxis\":{\"anchor\":\"x\",\"domain\":[0.0,1.0],\"title\":{\"text\":\"death\"}},\"legend\":{\"tracegroupgap\":0},\"margin\":{\"t\":60},\"boxmode\":\"group\",\"title\":{\"text\":\"Death rate in Latin America\",\"font\":{\"size\":30},\"x\":0.25}},                        {\"responsive\": true}                    ).then(function(){\n",
              "                            \n",
              "var gd = document.getElementById('33f2bc6f-f7bc-4739-b870-0ef496d41acd');\n",
              "var x = new MutationObserver(function (mutations, observer) {{\n",
              "        var display = window.getComputedStyle(gd).display;\n",
              "        if (!display || display === 'none') {{\n",
              "            console.log([gd, 'removed!']);\n",
              "            Plotly.purge(gd);\n",
              "            observer.disconnect();\n",
              "        }}\n",
              "}});\n",
              "\n",
              "// Listen for the removal of the full notebook cells\n",
              "var notebookContainer = gd.closest('#notebook-container');\n",
              "if (notebookContainer) {{\n",
              "    x.observe(notebookContainer, {childList: true});\n",
              "}}\n",
              "\n",
              "// Listen for the clearing of the current output cell\n",
              "var outputEl = gd.closest('.output');\n",
              "if (outputEl) {{\n",
              "    x.observe(outputEl, {childList: true});\n",
              "}}\n",
              "\n",
              "                        })                };                            </script>        </div>\n",
              "</body>\n",
              "</html>"
            ]
          },
          "metadata": {}
        }
      ]
    },
    {
      "cell_type": "markdown",
      "source": [
        "* The main causes were pregnancy-induced hypertension, \n",
        "hemorrhage, sepsis, and abortion, which is totally prohibited in the country.\n",
        "\n",
        "* Since abortion is illegal in the country, this means that they do it illegally so it increases deaths even of girls"
      ],
      "metadata": {
        "id": "I-cgq5LaUmy6"
      }
    }
  ]
}