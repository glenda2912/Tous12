{
  "nbformat": 4,
  "nbformat_minor": 0,
  "metadata": {
    "colab": {
      "provenance": [],
      "include_colab_link": true
    },
    "kernelspec": {
      "name": "python3",
      "display_name": "Python 3"
    },
    "language_info": {
      "name": "python"
    }
  },
  "cells": [
    {
      "cell_type": "markdown",
      "metadata": {
        "id": "view-in-github",
        "colab_type": "text"
      },
      "source": [
        "<a href=\"https://colab.research.google.com/github/glenda2912/Tous12/blob/main/04_%2C_DS_and_Pandas.ipynb\" target=\"_parent\"><img src=\"https://colab.research.google.com/assets/colab-badge.svg\" alt=\"Open In Colab\"/></a>"
      ]
    },
    {
      "cell_type": "markdown",
      "source": [
        "# **1. DS and Pandas**\n",
        "\n",
        "It is the Excel of Python."
      ],
      "metadata": {
        "id": "94O3dpXZuBMF"
      }
    },
    {
      "cell_type": "code",
      "execution_count": 2,
      "metadata": {
        "id": "FEVcTka1tef5"
      },
      "outputs": [],
      "source": [
        "# Libraries\n",
        "\n",
        "import numpy as np\n",
        "import pandas as pd"
      ]
    },
    {
      "cell_type": "markdown",
      "source": [
        "# **2. Series**\n",
        "\n",
        "A *Series* is a one dimensional object."
      ],
      "metadata": {
        "id": "mXXiG1gLu4gx"
      }
    },
    {
      "cell_type": "markdown",
      "source": [
        "## 2.1. Series Creation"
      ],
      "metadata": {
        "id": "ryGmdLwEvO3u"
      }
    },
    {
      "cell_type": "code",
      "source": [
        "# Empty Series\n",
        "\n",
        "s_empty = pd.Series()\n",
        "print(s_empty)"
      ],
      "metadata": {
        "colab": {
          "base_uri": "https://localhost:8080/"
        },
        "id": "kO6ZcnohvUX0",
        "outputId": "549e379d-5758-4bca-a57b-f285ce922caf"
      },
      "execution_count": null,
      "outputs": [
        {
          "output_type": "stream",
          "name": "stdout",
          "text": [
            "Series([], dtype: float64)\n"
          ]
        },
        {
          "output_type": "stream",
          "name": "stderr",
          "text": [
            "<ipython-input-2-99c40c9e7307>:3: FutureWarning: The default dtype for empty Series will be 'object' instead of 'float64' in a future version. Specify a dtype explicitly to silence this warning.\n",
            "  s_empty = pd.Series()\n"
          ]
        }
      ]
    },
    {
      "cell_type": "code",
      "source": [
        "# Create a Series by typing values\n",
        "\n",
        "s_int = pd.Series([1,2,3,4,5,6,7,8,9])\n",
        "print(s_int)\n",
        "\n",
        "s_str = pd.Series(['Nicolas', 'Luisa', 'José'])\n",
        "print(s_str)"
      ],
      "metadata": {
        "colab": {
          "base_uri": "https://localhost:8080/"
        },
        "id": "Ni6TlDVBv5i4",
        "outputId": "639a3528-5fe4-495f-cdbc-53f1a30d6b8d"
      },
      "execution_count": null,
      "outputs": [
        {
          "output_type": "stream",
          "name": "stdout",
          "text": [
            "0    1\n",
            "1    2\n",
            "2    3\n",
            "3    4\n",
            "4    5\n",
            "5    6\n",
            "6    7\n",
            "7    8\n",
            "8    9\n",
            "dtype: int64\n",
            "0    Nicolas\n",
            "1      Luisa\n",
            "2       José\n",
            "dtype: object\n"
          ]
        }
      ]
    },
    {
      "cell_type": "code",
      "source": [
        "# Create a Serie with random numbers\n",
        "\n",
        "s_rand = pd.Series(np.random.rand(10))\n",
        "print(s_rand)"
      ],
      "metadata": {
        "colab": {
          "base_uri": "https://localhost:8080/"
        },
        "id": "y_UkCM4Nx--Y",
        "outputId": "96565063-5e95-4e0a-e765-01dfa68a3171"
      },
      "execution_count": null,
      "outputs": [
        {
          "output_type": "stream",
          "name": "stdout",
          "text": [
            "0    0.321559\n",
            "1    0.721000\n",
            "2    0.019048\n",
            "3    0.503365\n",
            "4    0.506561\n",
            "5    0.176075\n",
            "6    0.235247\n",
            "7    0.492280\n",
            "8    0.134319\n",
            "9    0.367786\n",
            "dtype: float64\n"
          ]
        }
      ]
    },
    {
      "cell_type": "markdown",
      "source": [
        "## 2.2. Indexing"
      ],
      "metadata": {
        "id": "Vk65i931ywtm"
      }
    },
    {
      "cell_type": "code",
      "source": [
        "# Check the index of a Series\n",
        "\n",
        "s_rand.index"
      ],
      "metadata": {
        "colab": {
          "base_uri": "https://localhost:8080/"
        },
        "id": "hCLELnqoy3Tb",
        "outputId": "c7a0e047-197d-4149-c98d-3b92fc046a43"
      },
      "execution_count": null,
      "outputs": [
        {
          "output_type": "execute_result",
          "data": {
            "text/plain": [
              "RangeIndex(start=0, stop=10, step=1)"
            ]
          },
          "metadata": {},
          "execution_count": 7
        }
      ]
    },
    {
      "cell_type": "code",
      "source": [
        "# create your own index\n",
        "\n",
        "new_index = ['A','B','C']\n",
        "s_str3 = s_str.set_axis(new_index)\n",
        "print(s_str3)"
      ],
      "metadata": {
        "colab": {
          "base_uri": "https://localhost:8080/"
        },
        "id": "bsUUDHvjzRN7",
        "outputId": "81028713-9474-4019-ba7d-d40b43bfa619"
      },
      "execution_count": null,
      "outputs": [
        {
          "output_type": "stream",
          "name": "stdout",
          "text": [
            "A    Nicolas\n",
            "B      Luisa\n",
            "C       José\n",
            "dtype: object\n"
          ]
        }
      ]
    },
    {
      "cell_type": "markdown",
      "source": [
        "## 2.3. Select and Slice"
      ],
      "metadata": {
        "id": "epxdszGl2hTy"
      }
    },
    {
      "cell_type": "code",
      "source": [
        "# Simple Selection\n",
        "s_str3['B']\n",
        "s_str3[1]"
      ],
      "metadata": {
        "colab": {
          "base_uri": "https://localhost:8080/",
          "height": 35
        },
        "id": "qo5sln-o22tr",
        "outputId": "b70eaa60-4ca4-4418-b67f-7010c09ccbf6"
      },
      "execution_count": null,
      "outputs": [
        {
          "output_type": "execute_result",
          "data": {
            "text/plain": [
              "'Luisa'"
            ],
            "application/vnd.google.colaboratory.intrinsic+json": {
              "type": "string"
            }
          },
          "metadata": {},
          "execution_count": 19
        }
      ]
    },
    {
      "cell_type": "code",
      "source": [
        "# Select different elements\n",
        "s_rand[[3,8]]"
      ],
      "metadata": {
        "colab": {
          "base_uri": "https://localhost:8080/"
        },
        "id": "YDi9apo33Z2D",
        "outputId": "47ec20a0-2c46-4f0c-97d7-3d1cee0b6aad"
      },
      "execution_count": null,
      "outputs": [
        {
          "output_type": "execute_result",
          "data": {
            "text/plain": [
              "3    0.503365\n",
              "8    0.134319\n",
              "dtype: float64"
            ]
          },
          "metadata": {},
          "execution_count": 21
        }
      ]
    },
    {
      "cell_type": "code",
      "source": [
        "# Another way\n",
        "s_rand[:3]"
      ],
      "metadata": {
        "colab": {
          "base_uri": "https://localhost:8080/"
        },
        "id": "wIUFwLOY33pc",
        "outputId": "fa117080-e2d7-43f6-ac95-a28e1aab39d5"
      },
      "execution_count": null,
      "outputs": [
        {
          "output_type": "execute_result",
          "data": {
            "text/plain": [
              "0    0.321559\n",
              "1    0.721000\n",
              "2    0.019048\n",
              "dtype: float64"
            ]
          },
          "metadata": {},
          "execution_count": 22
        }
      ]
    },
    {
      "cell_type": "code",
      "source": [
        "# Another way\n",
        "\n",
        "pd.date_range(start = '01/01/2023', periods =32, freq = 'Q')"
      ],
      "metadata": {
        "colab": {
          "base_uri": "https://localhost:8080/"
        },
        "id": "mTZFUXM30HLZ",
        "outputId": "0866d03a-0efd-4f0e-e696-1456321c3cd6"
      },
      "execution_count": 4,
      "outputs": [
        {
          "output_type": "execute_result",
          "data": {
            "text/plain": [
              "DatetimeIndex(['2023-03-31', '2023-06-30', '2023-09-30', '2023-12-31',\n",
              "               '2024-03-31', '2024-06-30', '2024-09-30', '2024-12-31',\n",
              "               '2025-03-31', '2025-06-30', '2025-09-30', '2025-12-31',\n",
              "               '2026-03-31', '2026-06-30', '2026-09-30', '2026-12-31',\n",
              "               '2027-03-31', '2027-06-30', '2027-09-30', '2027-12-31',\n",
              "               '2028-03-31', '2028-06-30', '2028-09-30', '2028-12-31',\n",
              "               '2029-03-31', '2029-06-30', '2029-09-30', '2029-12-31',\n",
              "               '2030-03-31', '2030-06-30', '2030-09-30', '2030-12-31'],\n",
              "              dtype='datetime64[ns]', freq='Q-DEC')"
            ]
          },
          "metadata": {},
          "execution_count": 4
        }
      ]
    },
    {
      "cell_type": "markdown",
      "source": [
        "### 3.2.Aasing a time-serie index"
      ],
      "metadata": {
        "id": "FIpqbhBl1OVp"
      }
    },
    {
      "cell_type": "code",
      "source": [
        "# Create dates \n",
        "\n",
        "my_dates = pd.date_range(start = '01/03/2023', periods = 15)\n",
        "\n",
        "# Create an object \n",
        "\n",
        "sales = pd.Series(np.random.randint(low = 200, high = 250, size = 15 ),\n",
        "                  index = my_dates)\n",
        "print(sales)"
      ],
      "metadata": {
        "colab": {
          "base_uri": "https://localhost:8080/"
        },
        "id": "PvcH5w1x1X_l",
        "outputId": "325008a9-ba0f-493b-ec7d-681f1a0f8b0f"
      },
      "execution_count": 5,
      "outputs": [
        {
          "output_type": "stream",
          "name": "stdout",
          "text": [
            "2023-01-03    208\n",
            "2023-01-04    240\n",
            "2023-01-05    239\n",
            "2023-01-06    243\n",
            "2023-01-07    201\n",
            "2023-01-08    201\n",
            "2023-01-09    208\n",
            "2023-01-10    242\n",
            "2023-01-11    232\n",
            "2023-01-12    207\n",
            "2023-01-13    249\n",
            "2023-01-14    208\n",
            "2023-01-15    218\n",
            "2023-01-16    241\n",
            "2023-01-17    223\n",
            "Freq: D, dtype: int64\n"
          ]
        }
      ]
    },
    {
      "cell_type": "markdown",
      "source": [
        "# **4. Practical case - Simulation**"
      ],
      "metadata": {
        "id": "jdsDfnGO2vSR"
      }
    },
    {
      "cell_type": "markdown",
      "source": [
        "## 4.2 Create the simulation \n",
        "\n",
        "A simulation of the price of a financial asset.\n",
        "\n",
        "* Fist, create the dates:\n"
      ],
      "metadata": {
        "id": "E8jWNVsa2-Ng"
      }
    },
    {
      "cell_type": "code",
      "source": [
        "## Create a daily series of dates from 2021 until today \n",
        "\n",
        "# Saves \"today\"\n",
        "td = pd.to_datetime(\"today\").strftime(\"%m/%d/%Y\")\n",
        "\n",
        "# Create the date range \n",
        "\n",
        "dr = pd.date_range(start = '01/01/2021', end = td)\n",
        "nd = len(dr)"
      ],
      "metadata": {
        "id": "AHjAosUh3X0h"
      },
      "execution_count": 18,
      "outputs": []
    },
    {
      "cell_type": "markdown",
      "source": [
        "* Second, simulate the price \n"
      ],
      "metadata": {
        "id": "744hx7JK5zt3"
      }
    },
    {
      "cell_type": "code",
      "source": [
        "# Price with returns ~ N(mu, sigma^2)\n",
        "\n",
        "## Moments \n",
        "mu = 0.001; sigma = 0.01\n",
        "## Returns\n",
        "r = np.random.normal(mu, sigma, size = nd)\n",
        "\n",
        "##Price\n",
        "s   = np.empty(nd)\n",
        "s[0] = 100\n",
        "\n",
        "for i in range(1,nd):\n",
        "  s[i] = s[i-1]*np.exp(r[1])"
      ],
      "metadata": {
        "id": "Jm1Uvhih5605"
      },
      "execution_count": 20,
      "outputs": []
    },
    {
      "cell_type": "markdown",
      "source": [
        "* Third, put together dates and prices "
      ],
      "metadata": {
        "id": "FjigEAm-7Z83"
      }
    },
    {
      "cell_type": "code",
      "source": [
        "# Create the time series \n",
        "s = pd.Series(s, index = dr)\n",
        "s.head()"
      ],
      "metadata": {
        "colab": {
          "base_uri": "https://localhost:8080/"
        },
        "id": "xQjTU5mV7gRp",
        "outputId": "74a67858-5ec2-4f17-9337-9c76e120262a"
      },
      "execution_count": 29,
      "outputs": [
        {
          "output_type": "execute_result",
          "data": {
            "text/plain": [
              "2021-01-01    100.000000\n",
              "2021-01-02    100.113467\n",
              "2021-01-03    100.227062\n",
              "2021-01-04    100.340787\n",
              "2021-01-05    100.454640\n",
              "Freq: D, dtype: float64"
            ]
          },
          "metadata": {},
          "execution_count": 29
        }
      ]
    },
    {
      "cell_type": "code",
      "source": [
        "import matplotlib.pyplot as plt"
      ],
      "metadata": {
        "id": "ATZlmkuE8KaD"
      },
      "execution_count": 30,
      "outputs": []
    },
    {
      "cell_type": "code",
      "source": [
        "plt.plot(s)\n",
        "plt.show()"
      ],
      "metadata": {
        "colab": {
          "base_uri": "https://localhost:8080/",
          "height": 265
        },
        "id": "itsizOKT8T_r",
        "outputId": "0226fb27-7479-4fca-8ef4-ebe699705e3d"
      },
      "execution_count": 31,
      "outputs": [
        {
          "output_type": "display_data",
          "data": {
            "text/plain": [
              "<Figure size 432x288 with 1 Axes>"
            ],
            "image/png": "[encoded data removed]"
          },
          "metadata": {
            "needs_background": "light"
          }
        }
      ]
    }
  ]
}